{
 "cells": [
  {
   "cell_type": "code",
   "execution_count": 1,
   "id": "050df817-9ccb-4399-b7dd-da7e644c7c3a",
   "metadata": {
    "tags": []
   },
   "outputs": [],
   "source": [
    "import pandas as pd"
   ]
  },
  {
   "cell_type": "code",
   "execution_count": 22,
   "id": "b2c5ec8e-a611-4f3b-8d0e-1869cd4e11be",
   "metadata": {
    "tags": []
   },
   "outputs": [],
   "source": [
    "df1 = pd.read_csv(\"./bottom_channel_data/bottom_1_14_vid_details.csv\", index_col=0)\n",
    "df2 = pd.read_csv(\"./top_channel_data/top_1_25_vid_details.csv\", index_col=0)"
   ]
  },
  {
   "cell_type": "code",
   "execution_count": 35,
   "id": "ff1c52a1-1982-4007-a943-6ac6763a6de9",
   "metadata": {
    "tags": []
   },
   "outputs": [],
   "source": [
    "df1.drop(['favouriteCount'], axis = 1, inplace = True)"
   ]
  },
  {
   "cell_type": "code",
   "execution_count": 36,
   "id": "188ca68d-ecbc-4812-ab2d-2f8af43117c5",
   "metadata": {
    "tags": []
   },
   "outputs": [],
   "source": [
    "df1['dislikeCount'] = 10"
   ]
  },
  {
   "cell_type": "code",
   "execution_count": 37,
   "id": "a2624595-3e02-4778-af12-9bee14960e43",
   "metadata": {
    "tags": []
   },
   "outputs": [
    {
     "data": {
      "text/plain": [
       "Index(['video_id', 'channelTitle', 'title', 'description', 'tags',\n",
       "       'publishedAt', 'viewCount', 'likeCount', 'commentCount', 'duration',\n",
       "       'definition', 'caption', 'popUnpop', 'dislikeCount'],\n",
       "      dtype='object')"
      ]
     },
     "execution_count": 37,
     "metadata": {},
     "output_type": "execute_result"
    }
   ],
   "source": [
    "df1.columns"
   ]
  },
  {
   "cell_type": "code",
   "execution_count": 38,
   "id": "d61a8486-56da-4a22-945b-113318fe7551",
   "metadata": {
    "tags": []
   },
   "outputs": [
    {
     "data": {
      "text/plain": [
       "Index(['video_id', 'channelTitle', 'title', 'description', 'tags',\n",
       "       'publishedAt', 'viewCount', 'likeCount', 'commentCount', 'dislikeCount',\n",
       "       'duration', 'definition', 'caption', 'popUnpop'],\n",
       "      dtype='object')"
      ]
     },
     "execution_count": 38,
     "metadata": {},
     "output_type": "execute_result"
    }
   ],
   "source": [
    "df2.columns"
   ]
  },
  {
   "cell_type": "code",
   "execution_count": 39,
   "id": "df8423fb-b6eb-4b00-a871-e49f1d330bdf",
   "metadata": {
    "tags": []
   },
   "outputs": [],
   "source": [
    "combined_df = pd.concat([df1,df2], axis = 0)"
   ]
  },
  {
   "cell_type": "code",
   "execution_count": 40,
   "id": "6d344a90-e2d0-4b65-969a-b5703ad398b9",
   "metadata": {
    "tags": []
   },
   "outputs": [],
   "source": [
    "combined_df.to_csv(\"combined_vid.csv\")"
   ]
  },
  {
   "cell_type": "code",
   "execution_count": 43,
   "id": "6094f65a-5045-4d56-9093-f3f0163e379b",
   "metadata": {
    "tags": []
   },
   "outputs": [],
   "source": [
    "dfa = pd.read_csv('./bottom_channel_data/bottom_1_14_vid_details.csv',index_col=0)"
   ]
  },
  {
   "cell_type": "code",
   "execution_count": 46,
   "id": "f09c2458-3ebe-4eaf-93e7-4cc057ec4f0e",
   "metadata": {
    "tags": []
   },
   "outputs": [
    {
     "data": {
      "text/plain": [
       "716"
      ]
     },
     "execution_count": 46,
     "metadata": {},
     "output_type": "execute_result"
    }
   ],
   "source": [
    "10149-9433"
   ]
  },
  {
   "cell_type": "code",
   "execution_count": 44,
   "id": "ecc560eb-a13c-4dc5-a047-ce6ff8afb4b2",
   "metadata": {
    "tags": []
   },
   "outputs": [
    {
     "data": {
      "text/plain": [
       "(10149, 14)"
      ]
     },
     "execution_count": 44,
     "metadata": {},
     "output_type": "execute_result"
    }
   ],
   "source": [
    "dfa.shape"
   ]
  }
 ],
 "metadata": {
  "kernelspec": {
   "display_name": "Python 3 (ipykernel)",
   "language": "python",
   "name": "python3"
  },
  "language_info": {
   "codemirror_mode": {
    "name": "ipython",
    "version": 3
   },
   "file_extension": ".py",
   "mimetype": "text/x-python",
   "name": "python",
   "nbconvert_exporter": "python",
   "pygments_lexer": "ipython3",
   "version": "3.11.3"
  }
 },
 "nbformat": 4,
 "nbformat_minor": 5
}
