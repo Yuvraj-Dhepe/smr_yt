{
 "cells": [
  {
   "cell_type": "markdown",
   "id": "9ade4cb7",
   "metadata": {},
   "source": [
    "### Importing Libraries"
   ]
  },
  {
   "cell_type": "code",
   "execution_count": 5,
   "id": "94faf225-2c03-498d-9b11-86ed4b820452",
   "metadata": {
    "tags": []
   },
   "outputs": [
    {
     "name": "stdout",
     "output_type": "stream",
     "text": [
      "The autoreload extension is already loaded. To reload it, use:\n",
      "  %reload_ext autoreload\n"
     ]
    }
   ],
   "source": [
    "import pandas as pd\n",
    "import numpy as np\n",
    "import utils\n",
    "import plotly.graph_objs as go\n",
    "import dash\n",
    "from dash import dcc\n",
    "from dash import html\n",
    "import plots\n",
    "from dash.dependencies import Input, Output\n",
    "from dateutil import parser\n",
    "%load_ext autoreload\n",
    "%autoreload 2"
   ]
  },
  {
   "cell_type": "markdown",
   "id": "7f404255",
   "metadata": {},
   "source": [
    "### Parsing the Columns"
   ]
  },
  {
   "cell_type": "code",
   "execution_count": 6,
   "id": "8832d474-e3b0-4b16-9c8c-80a5b743fe7d",
   "metadata": {
    "tags": []
   },
   "outputs": [
    {
     "name": "stdout",
     "output_type": "stream",
     "text": [
      "Total rows before parsing: 7363\n",
      "Parser dropped 2 rows during 'publishedAt' parsing\n"
     ]
    },
    {
     "name": "stderr",
     "output_type": "stream",
     "text": [
      "/home/yuvi_dh/side_projects/Projects/smr_yt/eda_nbs/utils.py:86: SettingWithCopyWarning: \n",
      "A value is trying to be set on a copy of a slice from a DataFrame.\n",
      "Try using .loc[row_indexer,col_indexer] = value instead\n",
      "\n",
      "See the caveats in the documentation: https://pandas.pydata.org/pandas-docs/stable/user_guide/indexing.html#returning-a-view-versus-a-copy\n",
      "  df['publishDayName'] = df['publishedAt'].apply(lambda x: x.strftime(\"%A\"))\n",
      "/home/yuvi_dh/side_projects/Projects/smr_yt/eda_nbs/utils.py:89: SettingWithCopyWarning: \n",
      "A value is trying to be set on a copy of a slice from a DataFrame.\n",
      "Try using .loc[row_indexer,col_indexer] = value instead\n",
      "\n",
      "See the caveats in the documentation: https://pandas.pydata.org/pandas-docs/stable/user_guide/indexing.html#returning-a-view-versus-a-copy\n",
      "  df['publishedAt'] = pd.to_datetime(df['publishedAt'])\n",
      "/home/yuvi_dh/side_projects/Projects/smr_yt/eda_nbs/utils.py:92: SettingWithCopyWarning: \n",
      "A value is trying to be set on a copy of a slice from a DataFrame.\n",
      "Try using .loc[row_indexer,col_indexer] = value instead\n",
      "\n",
      "See the caveats in the documentation: https://pandas.pydata.org/pandas-docs/stable/user_guide/indexing.html#returning-a-view-versus-a-copy\n",
      "  df['publishingYear'] = df['publishedAt'].dt.year\n",
      "/home/yuvi_dh/side_projects/Projects/smr_yt/eda_nbs/utils.py:93: SettingWithCopyWarning: \n",
      "A value is trying to be set on a copy of a slice from a DataFrame.\n",
      "Try using .loc[row_indexer,col_indexer] = value instead\n",
      "\n",
      "See the caveats in the documentation: https://pandas.pydata.org/pandas-docs/stable/user_guide/indexing.html#returning-a-view-versus-a-copy\n",
      "  df['publishingMonth'] = df['publishedAt'].dt.month\n",
      "/home/yuvi_dh/side_projects/Projects/smr_yt/eda_nbs/utils.py:94: SettingWithCopyWarning: \n",
      "A value is trying to be set on a copy of a slice from a DataFrame.\n",
      "Try using .loc[row_indexer,col_indexer] = value instead\n",
      "\n",
      "See the caveats in the documentation: https://pandas.pydata.org/pandas-docs/stable/user_guide/indexing.html#returning-a-view-versus-a-copy\n",
      "  df['publishingTime'] = df['publishedAt'].dt.time\n",
      "/home/yuvi_dh/side_projects/Projects/smr_yt/eda_nbs/utils.py:97: SettingWithCopyWarning: \n",
      "A value is trying to be set on a copy of a slice from a DataFrame.\n",
      "Try using .loc[row_indexer,col_indexer] = value instead\n",
      "\n",
      "See the caveats in the documentation: https://pandas.pydata.org/pandas-docs/stable/user_guide/indexing.html#returning-a-view-versus-a-copy\n",
      "  df['publishingMonthName'] = df['publishedAt'].dt.strftime(\"%B\")\n",
      "/home/yuvi_dh/side_projects/Projects/smr_yt/eda_nbs/utils.py:100: SettingWithCopyWarning: \n",
      "A value is trying to be set on a copy of a slice from a DataFrame\n",
      "\n",
      "See the caveats in the documentation: https://pandas.pydata.org/pandas-docs/stable/user_guide/indexing.html#returning-a-view-versus-a-copy\n",
      "  df.drop(['publishedAt'], axis=1, inplace=True)\n",
      "/home/yuvi_dh/side_projects/Projects/smr_yt/eda_nbs/utils.py:103: SettingWithCopyWarning: \n",
      "A value is trying to be set on a copy of a slice from a DataFrame.\n",
      "Try using .loc[row_indexer,col_indexer] = value instead\n",
      "\n",
      "See the caveats in the documentation: https://pandas.pydata.org/pandas-docs/stable/user_guide/indexing.html#returning-a-view-versus-a-copy\n",
      "  df['durationSecs'] = df['duration'].apply(\n",
      "/home/yuvi_dh/side_projects/Projects/smr_yt/eda_nbs/utils.py:105: SettingWithCopyWarning: \n",
      "A value is trying to be set on a copy of a slice from a DataFrame.\n",
      "Try using .loc[row_indexer,col_indexer] = value instead\n",
      "\n",
      "See the caveats in the documentation: https://pandas.pydata.org/pandas-docs/stable/user_guide/indexing.html#returning-a-view-versus-a-copy\n",
      "  df['durationSecs'] = df['durationSecs'].astype('timedelta64[s]')\n",
      "/home/yuvi_dh/side_projects/Projects/smr_yt/eda_nbs/utils.py:106: SettingWithCopyWarning: \n",
      "A value is trying to be set on a copy of a slice from a DataFrame\n",
      "\n",
      "See the caveats in the documentation: https://pandas.pydata.org/pandas-docs/stable/user_guide/indexing.html#returning-a-view-versus-a-copy\n",
      "  df.drop(['duration'], axis=1, inplace=True)\n",
      "/home/yuvi_dh/side_projects/Projects/smr_yt/eda_nbs/utils.py:110: SettingWithCopyWarning: \n",
      "A value is trying to be set on a copy of a slice from a DataFrame.\n",
      "Try using .loc[row_indexer,col_indexer] = value instead\n",
      "\n",
      "See the caveats in the documentation: https://pandas.pydata.org/pandas-docs/stable/user_guide/indexing.html#returning-a-view-versus-a-copy\n",
      "  df['tagsstr'] = df.tags.apply(lambda x: 0 if x is None else str((x)))\n",
      "/home/yuvi_dh/side_projects/Projects/smr_yt/eda_nbs/utils.py:111: SettingWithCopyWarning: \n",
      "A value is trying to be set on a copy of a slice from a DataFrame.\n",
      "Try using .loc[row_indexer,col_indexer] = value instead\n",
      "\n",
      "See the caveats in the documentation: https://pandas.pydata.org/pandas-docs/stable/user_guide/indexing.html#returning-a-view-versus-a-copy\n",
      "  df['tagsCount'] = df.tagsstr.apply(\n",
      "/home/yuvi_dh/side_projects/Projects/smr_yt/eda_nbs/utils.py:113: SettingWithCopyWarning: \n",
      "A value is trying to be set on a copy of a slice from a DataFrame\n",
      "\n",
      "See the caveats in the documentation: https://pandas.pydata.org/pandas-docs/stable/user_guide/indexing.html#returning-a-view-versus-a-copy\n",
      "  df.drop(['tags'], axis=1, inplace=True)\n",
      "/home/yuvi_dh/side_projects/Projects/smr_yt/eda_nbs/utils.py:116: SettingWithCopyWarning: \n",
      "A value is trying to be set on a copy of a slice from a DataFrame.\n",
      "Try using .loc[row_indexer,col_indexer] = value instead\n",
      "\n",
      "See the caveats in the documentation: https://pandas.pydata.org/pandas-docs/stable/user_guide/indexing.html#returning-a-view-versus-a-copy\n",
      "  df['viewCount'] = df['viewCount'].apply(parse_viewcount)\n",
      "/home/yuvi_dh/side_projects/Projects/smr_yt/eda_nbs/utils.py:117: SettingWithCopyWarning: \n",
      "A value is trying to be set on a copy of a slice from a DataFrame.\n",
      "Try using .loc[row_indexer,col_indexer] = value instead\n",
      "\n",
      "See the caveats in the documentation: https://pandas.pydata.org/pandas-docs/stable/user_guide/indexing.html#returning-a-view-versus-a-copy\n",
      "  \n",
      "/home/yuvi_dh/side_projects/Projects/smr_yt/eda_nbs/utils.py:118: SettingWithCopyWarning: \n",
      "A value is trying to be set on a copy of a slice from a DataFrame.\n",
      "Try using .loc[row_indexer,col_indexer] = value instead\n",
      "\n",
      "See the caveats in the documentation: https://pandas.pydata.org/pandas-docs/stable/user_guide/indexing.html#returning-a-view-versus-a-copy\n",
      "  # Drop rows where 'viewCount' is a string\n"
     ]
    },
    {
     "name": "stdout",
     "output_type": "stream",
     "text": [
      "Parser dropped 1 rows during 'viewCount' parsing\n",
      "Total rows after parsing: 7358\n",
      "Total rows before parsing: 5410\n",
      "Parser dropped 0 rows during 'publishedAt' parsing\n",
      "Parser dropped 0 rows during 'viewCount' parsing\n",
      "Total rows after parsing: 5407\n"
     ]
    }
   ],
   "source": [
    "name = 'tech'\n",
    "bottom_channels = pd.read_csv(f\"./{name}/bottom_{name}_vid.csv\", index_col = 0)\n",
    "bottom_channels = utils.parse_cols(bottom_channels)\n",
    "\n",
    "\n",
    "top_channels = pd.read_csv(f\"./{name}/top_{name}_vid.csv\", index_col = 0)\n",
    "top_channels = utils.parse_cols(top_channels)\n",
    "# Autos: 2 reject\n",
    "# Shows: 1st only reject\n",
    "# Travel: 2 reject\n",
    "# Sports: 1st only reject\n",
    "# Tech:"
   ]
  },
  {
   "cell_type": "code",
   "execution_count": null,
   "id": "8ed1ec62",
   "metadata": {},
   "outputs": [],
   "source": [
    "# Print rows where 'viewCount' is 0\n",
    "zero_viewcount_rows = bottom_channels[bottom_channels['viewCount'] == 0]\n",
    "print(\"Rows with 'viewCount' as 0:\")\n",
    "print(zero_viewcount_rows.shape)"
   ]
  },
  {
   "cell_type": "markdown",
   "id": "e6ffc336",
   "metadata": {},
   "source": [
    "### Describing the Data"
   ]
  },
  {
   "cell_type": "code",
   "execution_count": 7,
   "id": "9acbee04",
   "metadata": {},
   "outputs": [
    {
     "data": {
      "text/plain": [
       "((7358, 20), (5407, 20))"
      ]
     },
     "execution_count": 7,
     "metadata": {},
     "output_type": "execute_result"
    }
   ],
   "source": [
    "bottom_channels.shape, top_channels.shape"
   ]
  },
  {
   "cell_type": "code",
   "execution_count": null,
   "id": "73578579",
   "metadata": {
    "tags": []
   },
   "outputs": [],
   "source": [
    "# print(top_channels.describe(percentiles = [.25, .5, .75, .9, .95, .99]))\n",
    "# print(bottom_channels.describe(percentiles = [.25, .5, .75, .9, .95, .99]))"
   ]
  },
  {
   "cell_type": "markdown",
   "id": "f9620808",
   "metadata": {},
   "source": [
    "### Adding the popularity Column and combining the popular and unpopular dataframes"
   ]
  },
  {
   "cell_type": "code",
   "execution_count": 8,
   "id": "c8b03387",
   "metadata": {
    "tags": []
   },
   "outputs": [],
   "source": [
    "bottom_channels = utils.add_pop_unpop_col(bottom_channels, False)\n",
    "top_channels = utils.add_pop_unpop_col(top_channels, True)"
   ]
  },
  {
   "cell_type": "code",
   "execution_count": 9,
   "id": "c8dde32d",
   "metadata": {
    "tags": []
   },
   "outputs": [],
   "source": [
    "comb_vids = utils.combine_pop_unpop_df(top_channels, bottom_channels)"
   ]
  },
  {
   "cell_type": "markdown",
   "id": "05867cde",
   "metadata": {},
   "source": [
    "### Removing the Outliers of the Data"
   ]
  },
  {
   "cell_type": "code",
   "execution_count": 10,
   "id": "2af1fee1",
   "metadata": {
    "tags": []
   },
   "outputs": [
    {
     "name": "stdout",
     "output_type": "stream",
     "text": [
      "(12765, 21) (11179, 21)\n"
     ]
    }
   ],
   "source": [
    "# Remove outliers from the dataframe\n",
    "cleaned_dataframe = utils.remove_outliers(comb_vids)\n",
    "print(comb_vids.shape, cleaned_dataframe.shape)"
   ]
  },
  {
   "cell_type": "markdown",
   "id": "16689701",
   "metadata": {},
   "source": [
    "### Splitting the columns into 2 Chunks each having popular and unpopular channels on the base of mean of views"
   ]
  },
  {
   "cell_type": "code",
   "execution_count": null,
   "id": "57321b47",
   "metadata": {},
   "outputs": [],
   "source": [
    "# chunklow_ch_names, chunkhigh_ch_names = utils.split_and_merge_by_views(comb_autos_info)\n",
    "# chunklow_ch_names.channelName.tolist(), chunkhigh_ch_names.channelName.tolist()"
   ]
  },
  {
   "cell_type": "code",
   "execution_count": 11,
   "id": "cc120100",
   "metadata": {
    "tags": []
   },
   "outputs": [
    {
     "name": "stdout",
     "output_type": "stream",
     "text": [
      "Mean views of popular channels:  365745606.5\n",
      "Mean views of unpopular channels:  25762607.2\n",
      "Popular channel names with views above mean: ['AWE me', 'ElectroBOOM', 'MONEY TALKS WIRELESS', 'Tech Boss', 'TheBackyardScientist']\n",
      "Popular channel names with views below mean: ['Fireship', 'MinuteEarth', 'My Primary Solution', 'Naked Science', 'Rare Earth']\n",
      "UnPopular channel names with views above mean: ['Google Deutschland', 'SamsungChile', 'Tinker Man Mick', 'Uncle Jessy']\n",
      "UnPopular channel names with views above mean: ['ACCIONA', 'Discovery Canada', 'Make it Extreme Shorts', 'MrEngineer', 'New Scientist', 'Tech & Design']\n"
     ]
    }
   ],
   "source": [
    "summed_views_df, mean_views_popular, mean_views_unpopular, popular_below_mean, popular_above_mean, unpopular_below_mean, unpopular_above_mean = utils.pop_unpop_chunks(cleaned_dataframe)\n",
    "\n",
    "above_mean_chunk = popular_above_mean + unpopular_above_mean\n",
    "below_mean_chunk = popular_below_mean + unpopular_below_mean\n",
    "\n",
    "\n",
    "print(\"Mean views of popular channels: \", mean_views_popular)\n",
    "print(\"Mean views of unpopular channels: \", mean_views_unpopular)\n",
    "\n",
    "print(f\"Popular channel names with views above mean: {(popular_above_mean)}\")\n",
    "print(f\"Popular channel names with views below mean: {(popular_below_mean)}\")\n",
    "print(f\"UnPopular channel names with views above mean: {(unpopular_above_mean)}\")\n",
    "print(f\"UnPopular channel names with views above mean: {(unpopular_below_mean)}\")"
   ]
  },
  {
   "cell_type": "code",
   "execution_count": null,
   "id": "1b32ac74",
   "metadata": {
    "tags": []
   },
   "outputs": [],
   "source": [
    "# # Run the first App to see the growth of views over the years for above mean chunk\n",
    "# app = plots.dynamic_view_plots(cleaned_dataframe)\n",
    "# app.run_server(debug=True, use_reloader=False, mode=\"inline\", port=23000)"
   ]
  },
  {
   "cell_type": "code",
   "execution_count": null,
   "id": "1f6dee35",
   "metadata": {
    "tags": []
   },
   "outputs": [],
   "source": [
    "# percentiles = ['.25', '.5', '.75', '.9', '.95', '.99']\n",
    "# app_2 = plots.percentiles_plot(cleaned_dataframe, percentiles=percentiles)\n",
    "# app_2.run_server(debug=True, use_reloader=False, mode=\"inline\", port=23001)"
   ]
  },
  {
   "cell_type": "code",
   "execution_count": 12,
   "id": "9d30fe0a-9ed8-4e81-8c01-964e8a919df7",
   "metadata": {
    "tags": []
   },
   "outputs": [
    {
     "name": "stderr",
     "output_type": "stream",
     "text": [
      "/home/yuvi_dh/downloads/installed/miniconda3/envs/data_analysis_env/lib/python3.11/site-packages/statsmodels/graphics/gofplots.py:1045: UserWarning: color is redundantly defined by the 'color' keyword argument and the fmt string \"b\" (-> color=(0.0, 0.0, 1.0, 1)). The keyword argument will take precedence.\n",
      "  ax.plot(x, y, fmt, **plot_style)\n"
     ]
    },
    {
     "data": {
      "image/png": "[encoded data removed]",
      "text/plain": [
       "<Figure size 1200x600 with 2 Axes>"
      ]
     },
     "metadata": {},
     "output_type": "display_data"
    }
   ],
   "source": [
    "import matplotlib.pyplot as plt\n",
    "import statsmodels.api as sm\n",
    "import seaborn as sns\n",
    "import pandas as pd\n",
    "from scipy.stats import ttest_ind\n",
    "from scipy.stats import mannwhitneyu\n",
    "\n",
    "df = cleaned_dataframe\n",
    "# recent_years = df['publishingYear'].isin([2023, 2022,2021])\n",
    "# df = df[recent_years]\n",
    "\n",
    "# Assuming your DataFrame is named 'df'\n",
    "# Separate data for popular and unpopular channels\n",
    "popular_views = df[df['pop_unpop'] == 1]['viewCount']\n",
    "unpopular_views = df[df['pop_unpop'] == 0]['viewCount']\n",
    "\n",
    "# Create Q-Q plots\n",
    "fig, axs = plt.subplots(1, 2, figsize=(12, 6))\n",
    "\n",
    "sm.qqplot(popular_views, line='s', color='blue', ax=axs[0])\n",
    "axs[0].set_title('Q-Q Plot - Popular Channels')\n",
    "\n",
    "sm.qqplot(unpopular_views, line='s', color='orange', ax=axs[1])\n",
    "axs[1].set_title('Q-Q Plot - Unpopular Channels')\n",
    "\n",
    "plt.tight_layout()\n",
    "plt.show()"
   ]
  },
  {
   "cell_type": "code",
   "execution_count": 14,
   "id": "fb0ae781",
   "metadata": {},
   "outputs": [
    {
     "data": {
      "image/png": "[encoded data removed]",
      "text/plain": [
       "<Figure size 1000x600 with 1 Axes>"
      ]
     },
     "metadata": {},
     "output_type": "display_data"
    },
    {
     "data": {
      "image/png": "[encoded data removed]",
      "text/plain": [
       "<Figure size 1000x600 with 1 Axes>"
      ]
     },
     "metadata": {},
     "output_type": "display_data"
    }
   ],
   "source": [
    "import pandas as pd\n",
    "import matplotlib.pyplot as plt\n",
    "\n",
    "# Assuming your CSV file is named 'your_file.csv'\n",
    "df = cleaned_dataframe\n",
    "\n",
    "# Separate data for popular and unpopular channels\n",
    "popular_df = df[df['pop_unpop'] == 1]\n",
    "unpopular_df = df[df['pop_unpop'] == 0]\n",
    "\n",
    "# Plotting the distribution of viewCount for popular channels\n",
    "plt.figure(figsize=(10, 6))\n",
    "plt.hist(popular_df['viewCount'], bins=50, color='blue', alpha=0.7, label='Popular Channels')\n",
    "plt.title('Distribution of viewCount for Popular Channels')\n",
    "plt.xlabel('viewCount')\n",
    "plt.ylabel('Frequency')\n",
    "plt.legend()\n",
    "plt.show()\n",
    "\n",
    "# Plotting the distribution of viewCount for unpopular channels\n",
    "plt.figure(figsize=(10, 6))\n",
    "plt.hist(unpopular_df['viewCount'], bins=50, color='red', alpha=0.7, label='Unpopular Channels')\n",
    "plt.title('Distribution of viewCount for Unpopular Channels')\n",
    "plt.xlabel('viewCount')\n",
    "plt.ylabel('Frequency')\n",
    "plt.legend()\n",
    "plt.show()\n"
   ]
  },
  {
   "cell_type": "code",
   "execution_count": 15,
   "id": "83aebe4c-ef45-4254-add0-e2707858d0a6",
   "metadata": {
    "tags": []
   },
   "outputs": [
    {
     "name": "stdout",
     "output_type": "stream",
     "text": [
      "T-statistic: 8625557.0\n",
      "P-value: 0.0\n",
      "Reject the null hypothesis: There is a significant difference between the view counts of popular and unpopular channels in the recent three years.\n"
     ]
    }
   ],
   "source": [
    "# Assuming your DataFrame is named 'df'\n",
    "# Filter data for the most recent three years\n",
    "df = cleaned_dataframe\n",
    "recent_years = df['publishingYear'].isin([2023, 2022,2021])  # Replace 'year1', 'year2', 'year3' with actual years\n",
    "filtered_df = df[recent_years]\n",
    "\n",
    "# Separate data for popular and unpopular channels in the recent years\n",
    "popular = filtered_df[filtered_df['pop_unpop'] == 1]['viewCount']\n",
    "unpopular = filtered_df[filtered_df['pop_unpop'] == 0]['viewCount']\n",
    "\n",
    "# Perform two-tailed t-test\n",
    "t_statistic, p_value = mannwhitneyu(popular, unpopular)\n",
    "\n",
    "# Print the results\n",
    "print(\"T-statistic:\", t_statistic)\n",
    "print(\"P-value:\", p_value)\n",
    "\n",
    "# Interpret the results\n",
    "alpha = 0.05  # Set your significance level\n",
    "if p_value < alpha:\n",
    "    print(\"Reject the null hypothesis: There is a significant difference between the view counts of popular and unpopular channels in the recent three years.\")\n",
    "else:\n",
    "    print(\"Fail to reject the null hypothesis: There is no significant difference between the view counts of popular and unpopular channels in the recent three years.\")\n"
   ]
  },
  {
   "cell_type": "code",
   "execution_count": 16,
   "id": "0846f568-9b4a-43d7-a34e-a08458c2760c",
   "metadata": {
    "tags": []
   },
   "outputs": [
    {
     "name": "stdout",
     "output_type": "stream",
     "text": [
      "T-statistic: 92.0\n",
      "P-value: 0.0017062493689195964\n",
      "Reject the null hypothesis: There is a significant difference between the mean view counts of popular and unpopular channels.\n"
     ]
    }
   ],
   "source": [
    "# Assuming your DataFrame is named 'cleaned_dataframe'\n",
    "# Filter data for the most recent three years\n",
    "df = cleaned_dataframe\n",
    "\n",
    "popular_df = df[df['pop_unpop']==1]\n",
    "unpopular_df = df[df['pop_unpop']==0]\n",
    "\n",
    "# Group by channelTitle and calculate the mean view count for each channel\n",
    "popular_mean_view = popular_df.groupby('channelTitle')['viewCount'].mean().reset_index()\n",
    "popular_mean_view['pop_unpop'] = 1\n",
    "unpopular_mean_view = unpopular_df.groupby('channelTitle')['viewCount'].mean().reset_index()\n",
    "unpopular_mean_view['pop_unpop'] = 0\n",
    "\n",
    "# Get the view Count\n",
    "popular = popular_mean_view['viewCount']\n",
    "unpopular = unpopular_mean_view['viewCount']\n",
    "\n",
    "# Perform two-tailed t-test\n",
    "t_statistic, p_value = mannwhitneyu(popular, unpopular)\n",
    "\n",
    "# Print the results\n",
    "print(\"T-statistic:\", t_statistic)\n",
    "print(\"P-value:\", p_value)\n",
    "\n",
    "# Interpret the results\n",
    "alpha = 0.01  # Set your significance level\n",
    "if p_value < alpha:\n",
    "    print(\"Reject the null hypothesis: There is a significant difference between the mean view counts of popular and unpopular channels.\")\n",
    "else:\n",
    "    print(\"Fail to reject the null hypothesis: There is no significant difference between the mean view counts of popular and unpopular channels.\")"
   ]
  },
  {
   "cell_type": "code",
   "execution_count": 17,
   "id": "944852b5",
   "metadata": {},
   "outputs": [
    {
     "data": {
      "text/html": [
       "<div>\n",
       "<style scoped>\n",
       "    .dataframe tbody tr th:only-of-type {\n",
       "        vertical-align: middle;\n",
       "    }\n",
       "\n",
       "    .dataframe tbody tr th {\n",
       "        vertical-align: top;\n",
       "    }\n",
       "\n",
       "    .dataframe thead th {\n",
       "        text-align: right;\n",
       "    }\n",
       "</style>\n",
       "<table border=\"1\" class=\"dataframe\">\n",
       "  <thead>\n",
       "    <tr style=\"text-align: right;\">\n",
       "      <th></th>\n",
       "      <th>channelTitle</th>\n",
       "      <th>viewCount</th>\n",
       "      <th>pop_unpop</th>\n",
       "    </tr>\n",
       "  </thead>\n",
       "  <tbody>\n",
       "    <tr>\n",
       "      <th>0</th>\n",
       "      <td>AWE me</td>\n",
       "      <td>1.905333e+06</td>\n",
       "      <td>1</td>\n",
       "    </tr>\n",
       "    <tr>\n",
       "      <th>1</th>\n",
       "      <td>ElectroBOOM</td>\n",
       "      <td>2.411803e+06</td>\n",
       "      <td>1</td>\n",
       "    </tr>\n",
       "    <tr>\n",
       "      <th>2</th>\n",
       "      <td>Fireship</td>\n",
       "      <td>4.826832e+05</td>\n",
       "      <td>1</td>\n",
       "    </tr>\n",
       "    <tr>\n",
       "      <th>3</th>\n",
       "      <td>MONEY TALKS WIRELESS</td>\n",
       "      <td>4.317788e+05</td>\n",
       "      <td>1</td>\n",
       "    </tr>\n",
       "    <tr>\n",
       "      <th>4</th>\n",
       "      <td>MinuteEarth</td>\n",
       "      <td>9.821339e+05</td>\n",
       "      <td>1</td>\n",
       "    </tr>\n",
       "    <tr>\n",
       "      <th>5</th>\n",
       "      <td>My Primary Solution</td>\n",
       "      <td>1.463597e+04</td>\n",
       "      <td>1</td>\n",
       "    </tr>\n",
       "    <tr>\n",
       "      <th>6</th>\n",
       "      <td>Naked Science</td>\n",
       "      <td>3.672574e+05</td>\n",
       "      <td>1</td>\n",
       "    </tr>\n",
       "    <tr>\n",
       "      <th>7</th>\n",
       "      <td>Rare Earth</td>\n",
       "      <td>2.025853e+05</td>\n",
       "      <td>1</td>\n",
       "    </tr>\n",
       "    <tr>\n",
       "      <th>8</th>\n",
       "      <td>Tech Boss</td>\n",
       "      <td>7.733842e+05</td>\n",
       "      <td>1</td>\n",
       "    </tr>\n",
       "    <tr>\n",
       "      <th>9</th>\n",
       "      <td>TheBackyardScientist</td>\n",
       "      <td>3.108872e+06</td>\n",
       "      <td>1</td>\n",
       "    </tr>\n",
       "  </tbody>\n",
       "</table>\n",
       "</div>"
      ],
      "text/plain": [
       "           channelTitle     viewCount  pop_unpop\n",
       "0                AWE me  1.905333e+06          1\n",
       "1           ElectroBOOM  2.411803e+06          1\n",
       "2              Fireship  4.826832e+05          1\n",
       "3  MONEY TALKS WIRELESS  4.317788e+05          1\n",
       "4           MinuteEarth  9.821339e+05          1\n",
       "5   My Primary Solution  1.463597e+04          1\n",
       "6         Naked Science  3.672574e+05          1\n",
       "7            Rare Earth  2.025853e+05          1\n",
       "8             Tech Boss  7.733842e+05          1\n",
       "9  TheBackyardScientist  3.108872e+06          1"
      ]
     },
     "execution_count": 17,
     "metadata": {},
     "output_type": "execute_result"
    }
   ],
   "source": [
    "popular_mean_view"
   ]
  },
  {
   "cell_type": "code",
   "execution_count": 18,
   "id": "a2a43a11",
   "metadata": {},
   "outputs": [
    {
     "data": {
      "text/html": [
       "<div>\n",
       "<style scoped>\n",
       "    .dataframe tbody tr th:only-of-type {\n",
       "        vertical-align: middle;\n",
       "    }\n",
       "\n",
       "    .dataframe tbody tr th {\n",
       "        vertical-align: top;\n",
       "    }\n",
       "\n",
       "    .dataframe thead th {\n",
       "        text-align: right;\n",
       "    }\n",
       "</style>\n",
       "<table border=\"1\" class=\"dataframe\">\n",
       "  <thead>\n",
       "    <tr style=\"text-align: right;\">\n",
       "      <th></th>\n",
       "      <th>channelTitle</th>\n",
       "      <th>viewCount</th>\n",
       "      <th>pop_unpop</th>\n",
       "    </tr>\n",
       "  </thead>\n",
       "  <tbody>\n",
       "    <tr>\n",
       "      <th>0</th>\n",
       "      <td>ACCIONA</td>\n",
       "      <td>25908.622142</td>\n",
       "      <td>0</td>\n",
       "    </tr>\n",
       "    <tr>\n",
       "      <th>1</th>\n",
       "      <td>Discovery Canada</td>\n",
       "      <td>6692.067644</td>\n",
       "      <td>0</td>\n",
       "    </tr>\n",
       "    <tr>\n",
       "      <th>2</th>\n",
       "      <td>Google Deutschland</td>\n",
       "      <td>104508.016317</td>\n",
       "      <td>0</td>\n",
       "    </tr>\n",
       "    <tr>\n",
       "      <th>3</th>\n",
       "      <td>Make it Extreme Shorts</td>\n",
       "      <td>68236.503448</td>\n",
       "      <td>0</td>\n",
       "    </tr>\n",
       "    <tr>\n",
       "      <th>4</th>\n",
       "      <td>MrEngineer</td>\n",
       "      <td>44253.503521</td>\n",
       "      <td>0</td>\n",
       "    </tr>\n",
       "    <tr>\n",
       "      <th>5</th>\n",
       "      <td>New Scientist</td>\n",
       "      <td>4338.838488</td>\n",
       "      <td>0</td>\n",
       "    </tr>\n",
       "    <tr>\n",
       "      <th>6</th>\n",
       "      <td>SamsungChile</td>\n",
       "      <td>44606.020631</td>\n",
       "      <td>0</td>\n",
       "    </tr>\n",
       "    <tr>\n",
       "      <th>7</th>\n",
       "      <td>Tech &amp; Design</td>\n",
       "      <td>126.913621</td>\n",
       "      <td>0</td>\n",
       "    </tr>\n",
       "    <tr>\n",
       "      <th>8</th>\n",
       "      <td>Tinker Man Mick</td>\n",
       "      <td>273814.944805</td>\n",
       "      <td>0</td>\n",
       "    </tr>\n",
       "    <tr>\n",
       "      <th>9</th>\n",
       "      <td>Uncle Jessy</td>\n",
       "      <td>38535.606061</td>\n",
       "      <td>0</td>\n",
       "    </tr>\n",
       "  </tbody>\n",
       "</table>\n",
       "</div>"
      ],
      "text/plain": [
       "             channelTitle      viewCount  pop_unpop\n",
       "0                 ACCIONA   25908.622142          0\n",
       "1        Discovery Canada    6692.067644          0\n",
       "2      Google Deutschland  104508.016317          0\n",
       "3  Make it Extreme Shorts   68236.503448          0\n",
       "4              MrEngineer   44253.503521          0\n",
       "5           New Scientist    4338.838488          0\n",
       "6            SamsungChile   44606.020631          0\n",
       "7           Tech & Design     126.913621          0\n",
       "8         Tinker Man Mick  273814.944805          0\n",
       "9             Uncle Jessy   38535.606061          0"
      ]
     },
     "execution_count": 18,
     "metadata": {},
     "output_type": "execute_result"
    }
   ],
   "source": [
    "unpopular_mean_view"
   ]
  }
 ],
 "metadata": {
  "kernelspec": {
   "display_name": "Python 3 (ipykernel)",
   "language": "python",
   "name": "python3"
  },
  "language_info": {
   "codemirror_mode": {
    "name": "ipython",
    "version": 3
   },
   "file_extension": ".py",
   "mimetype": "text/x-python",
   "name": "python",
   "nbconvert_exporter": "python",
   "pygments_lexer": "ipython3",
   "version": "3.11.3"
  }
 },
 "nbformat": 4,
 "nbformat_minor": 5
}
