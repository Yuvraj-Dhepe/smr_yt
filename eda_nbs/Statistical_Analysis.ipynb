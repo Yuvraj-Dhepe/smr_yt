{
 "cells": [
  {
   "cell_type": "markdown",
   "id": "9ade4cb7",
   "metadata": {},
   "source": [
    "### Importing Libraries"
   ]
  },
  {
   "cell_type": "code",
   "execution_count": null,
   "id": "94faf225-2c03-498d-9b11-86ed4b820452",
   "metadata": {
    "tags": []
   },
   "outputs": [],
   "source": [
    "import pandas as pd\n",
    "import utils\n",
    "\n",
    "\n",
    "from nltk.corpus import stopwords\n",
    "import pandas as pd\n",
    "import nltk\n",
    "import re\n",
    "\n",
    "# Download the stopwords dataset if you haven't already\n",
    "# nltk.download('stopwords')\n",
    "# nltk.download('punkt')\n",
    "\n",
    "import matplotlib.pyplot as plt\n",
    "import statsmodels.api as sm\n",
    "import pandas as pd\n",
    "import seaborn as sns\n",
    "from scipy.stats import ttest_ind\n",
    "from scipy.stats import mannwhitneyu\n",
    "\n",
    "\n",
    "\n",
    "import math\n",
    "\n",
    "%load_ext autoreload\n",
    "%autoreload 2"
   ]
  },
  {
   "cell_type": "markdown",
   "id": "7f404255",
   "metadata": {},
   "source": [
    "### Parsing the Columns"
   ]
  },
  {
   "cell_type": "code",
   "execution_count": null,
   "id": "8832d474-e3b0-4b16-9c8c-80a5b743fe7d",
   "metadata": {
    "tags": []
   },
   "outputs": [],
   "source": [
    "name = 'tech'\n",
    "bottom_channels = pd.read_csv(f\"./{name}/bottom_{name}_vid.csv\", index_col = 0)\n",
    "bottom_channels = utils.parse_cols(bottom_channels)\n",
    "\n",
    "\n",
    "top_channels = pd.read_csv(f\"./{name}/top_{name}_vid.csv\", index_col = 0)\n",
    "top_channels = utils.parse_cols(top_channels)\n",
    "\n",
    "# Autos: 2 reject, 15220, 13595\n",
    "# Shows: 1st only reject, 15147, 13296\n",
    "# Travel: 2 reject, 10809, 9810\n",
    "# Sports: 1st only reject, 16272, 14143\n",
    "# Tech: 2 reject, 12765, 11179"
   ]
  },
  {
   "cell_type": "code",
   "execution_count": null,
   "id": "006efcd8",
   "metadata": {},
   "outputs": [],
   "source": [
    "# 15220+15147+10809+16272+12765 = 70213 # Before Outliers\n",
    "# 13595+13296+9810+14143+11179 = 62023 # After Outliers"
   ]
  },
  {
   "cell_type": "markdown",
   "id": "e6ffc336",
   "metadata": {},
   "source": [
    "### Describing the Data"
   ]
  },
  {
   "cell_type": "code",
   "execution_count": null,
   "id": "9acbee04",
   "metadata": {},
   "outputs": [],
   "source": [
    "bottom_channels.shape, top_channels.shape"
   ]
  },
  {
   "cell_type": "markdown",
   "id": "f9620808",
   "metadata": {},
   "source": [
    "### Adding the popularity Column and combining the popular and unpopular dataframes"
   ]
  },
  {
   "cell_type": "code",
   "execution_count": null,
   "id": "c8b03387",
   "metadata": {
    "tags": []
   },
   "outputs": [],
   "source": [
    "bottom_channels = utils.add_pop_unpop_col(bottom_channels, False)\n",
    "top_channels = utils.add_pop_unpop_col(top_channels, True)"
   ]
  },
  {
   "cell_type": "code",
   "execution_count": null,
   "id": "c8dde32d",
   "metadata": {
    "tags": []
   },
   "outputs": [],
   "source": [
    "comb_vids = utils.combine_pop_unpop_df(top_channels, bottom_channels)"
   ]
  },
  {
   "cell_type": "markdown",
   "id": "05867cde",
   "metadata": {},
   "source": [
    "### Removing the Outliers of the Data"
   ]
  },
  {
   "cell_type": "code",
   "execution_count": null,
   "id": "2af1fee1",
   "metadata": {
    "tags": []
   },
   "outputs": [],
   "source": [
    "# Remove outliers from the dataframe\n",
    "cleaned_dataframe = utils.remove_outliers(comb_vids)\n",
    "print(comb_vids.shape, cleaned_dataframe.shape)"
   ]
  },
  {
   "cell_type": "code",
   "execution_count": null,
   "id": "24567f68",
   "metadata": {},
   "outputs": [],
   "source": [
    "df = cleaned_dataframe\n",
    "df_sorted = df.sort_values(by=['channelTitle', 'publishingYear'])\n",
    "\n",
    "# Group by 'channelTitle', 'publishingYear', and 'pop_unpop', and calculate count and mean duration\n",
    "grouped_data = df_sorted.groupby(['channelTitle', 'publishingYear', 'pop_unpop'])['durationSecs'].agg(['count', 'mean']).reset_index()\n",
    "\n",
    "# Rename columns for clarity\n",
    "grouped_data.columns = ['channelTitle', 'publishingYear', 'pop_unpop', 'num_videos', 'average_duration_secs']\n",
    "\n",
    "# Convert duration from seconds to minutes\n",
    "grouped_data['average_duration_mins'] = grouped_data['average_duration_secs'] / 60\n",
    "\n",
    "# Drop the 'average_duration_secs' column\n",
    "grouped_data.drop(columns=['average_duration_secs'], inplace=True)\n",
    "\n",
    "# Sort the DataFrame by 'channelTitle' and 'publishingYear' within each 'channelTitle' group\n",
    "average_duration_sorted = grouped_data.groupby('channelTitle').apply(lambda x: x.sort_values('publishingYear')).reset_index(drop=True)\n",
    "\n",
    "# Sort the DataFrame by 'average_duration_mins' within each 'channelTitle' group\n",
    "average_duration_sorted = average_duration_sorted.groupby('channelTitle').apply(lambda x: x.sort_values('average_duration_mins')).reset_index(drop=True)\n",
    "\n",
    "# Print the resulting DataFrame\n",
    "average_duration_sorted.to_csv(f'{name}_avg_duration.csv')"
   ]
  },
  {
   "cell_type": "markdown",
   "id": "16689701",
   "metadata": {},
   "source": [
    "### Splitting the columns into 2 Chunks each having popular and unpopular channels on the base of mean of views"
   ]
  },
  {
   "cell_type": "code",
   "execution_count": null,
   "id": "57321b47",
   "metadata": {},
   "outputs": [],
   "source": [
    "# chunklow_ch_names, chunkhigh_ch_names = utils.split_and_merge_by_views(comb_autos_info)\n",
    "# chunklow_ch_names.channelName.tolist(), chunkhigh_ch_names.channelName.tolist()\n",
    "\n",
    "# summed_views_df, mean_views_popular, mean_views_unpopular, popular_below_mean, popular_above_mean, unpopular_below_mean, unpopular_above_mean = utils.pop_unpop_chunks(cleaned_dataframe)\n",
    "\n",
    "# above_mean_chunk = popular_above_mean + unpopular_above_mean\n",
    "# below_mean_chunk = popular_below_mean + unpopular_below_mean\n",
    "\n",
    "\n",
    "# print(\"Mean views of popular channels: \", mean_views_popular)\n",
    "# print(\"Mean views of unpopular channels: \", mean_views_unpopular)\n",
    "\n",
    "# print(f\"Popular channel names with views above mean: {(popular_above_mean)}\")\n",
    "# print(f\"Popular channel names with views below mean: {(popular_below_mean)}\")\n",
    "# print(f\"UnPopular channel names with views above mean: {(unpopular_above_mean)}\")\n",
    "# print(f\"UnPopular channel names with views above mean: {(unpopular_below_mean)}\")"
   ]
  },
  {
   "cell_type": "markdown",
   "id": "76e16dcc",
   "metadata": {},
   "source": [
    "### App Running "
   ]
  },
  {
   "cell_type": "code",
   "execution_count": null,
   "id": "1b32ac74",
   "metadata": {
    "tags": []
   },
   "outputs": [],
   "source": [
    "# # Run the first App to see the growth of views over the years for above mean chunk\n",
    "# app = plots.dynamic_view_plots(cleaned_dataframe)\n",
    "# app.run_server(debug=True, use_reloader=False, mode=\"inline\", port=23000)"
   ]
  },
  {
   "cell_type": "code",
   "execution_count": null,
   "id": "1f6dee35",
   "metadata": {
    "tags": []
   },
   "outputs": [],
   "source": [
    "# percentiles = ['.25', '.5', '.75', '.9', '.95', '.99']\n",
    "# app_2 = plots.percentiles_plot(cleaned_dataframe, percentiles=percentiles)\n",
    "# app_2.run_server(debug=True, use_reloader=False, mode=\"inline\", port=23001)"
   ]
  },
  {
   "cell_type": "markdown",
   "id": "d6cabb25",
   "metadata": {},
   "source": [
    "### Numerical Analysis"
   ]
  },
  {
   "cell_type": "markdown",
   "id": "bc166dde",
   "metadata": {},
   "source": [
    "#### QQ Plots && Distribution Plots"
   ]
  },
  {
   "cell_type": "code",
   "execution_count": null,
   "id": "9d30fe0a-9ed8-4e81-8c01-964e8a919df7",
   "metadata": {
    "tags": []
   },
   "outputs": [],
   "source": [
    "df = cleaned_dataframe\n",
    "# recent_years = df['publishingYear'].isin([2023, 2022,2021])\n",
    "# df = df[recent_years]\n",
    "\n",
    "# Assuming your DataFrame is named 'df'\n",
    "# Separate data for popular and unpopular channels\n",
    "popular_views = df[df['pop_unpop'] == 1]['viewCount']\n",
    "unpopular_views = df[df['pop_unpop'] == 0]['viewCount']\n",
    "\n",
    "# Create Q-Q plots\n",
    "fig, axs = plt.subplots(1, 2, figsize=(12, 6))\n",
    "\n",
    "sm.qqplot(popular_views, line='s', color='blue', ax=axs[0])\n",
    "axs[0].set_title('Q-Q Plot - Popular Channels')\n",
    "\n",
    "sm.qqplot(unpopular_views, line='s', color='orange', ax=axs[1])\n",
    "axs[1].set_title('Q-Q Plot - Unpopular Channels')\n",
    "\n",
    "plt.tight_layout()\n",
    "plt.show()"
   ]
  },
  {
   "cell_type": "code",
   "execution_count": null,
   "id": "fb0ae781",
   "metadata": {},
   "outputs": [],
   "source": [
    "df = cleaned_dataframe\n",
    "\n",
    "# Separate data for popular and unpopular channels\n",
    "popular_df = df[df['pop_unpop'] == 1]\n",
    "unpopular_df = df[df['pop_unpop'] == 0]\n",
    "\n",
    "# Plotting the distribution of viewCount for popular channels\n",
    "plt.figure(figsize=(10, 6))\n",
    "plt.hist(popular_df['viewCount'], bins=50, color='blue', alpha=0.7, label='Popular Channels')\n",
    "plt.title('Distribution of viewCount for Popular Channels')\n",
    "plt.xlabel('viewCount')\n",
    "plt.ylabel('Frequency')\n",
    "plt.legend()\n",
    "plt.show()\n",
    "\n",
    "# Plotting the distribution of viewCount for unpopular channels\n",
    "plt.figure(figsize=(10, 6))\n",
    "plt.hist(unpopular_df['viewCount'], bins=50, color='red', alpha=0.7, label='Unpopular Channels')\n",
    "plt.title('Distribution of viewCount for Unpopular Channels')\n",
    "plt.xlabel('viewCount')\n",
    "plt.ylabel('Frequency')\n",
    "plt.legend()\n",
    "plt.show()"
   ]
  },
  {
   "cell_type": "code",
   "execution_count": null,
   "id": "0846f568-9b4a-43d7-a34e-a08458c2760c",
   "metadata": {
    "tags": []
   },
   "outputs": [],
   "source": [
    "df = cleaned_dataframe\n",
    "\n",
    "popular_df = df[df['pop_unpop']==1]\n",
    "unpopular_df = df[df['pop_unpop']==0]\n",
    "\n",
    "# Group by channelTitle and calculate the mean view count for each channel\n",
    "popular_mean_view = popular_df.groupby('channelTitle')['viewCount'].mean().reset_index()\n",
    "popular_mean_view['pop_unpop'] = 1\n",
    "unpopular_mean_view = unpopular_df.groupby('channelTitle')['viewCount'].mean().reset_index()\n",
    "unpopular_mean_view['pop_unpop'] = 0\n",
    "\n",
    "# Get the view Count\n",
    "popular = popular_mean_view['viewCount']\n",
    "unpopular = unpopular_mean_view['viewCount']\n",
    "\n",
    "# Perform two-tailed t-test\n",
    "t_statistic, p_value = mannwhitneyu(popular, unpopular)\n",
    "\n",
    "# Print the results\n",
    "print(\"T-statistic:\", t_statistic)\n",
    "print(\"P-value:\", p_value)\n",
    "\n",
    "# Interpret the results\n",
    "alpha = 0.01  # Set your significance level\n",
    "if p_value < alpha:\n",
    "    print(\"Reject the null hypothesis: There is a significant difference between the mean view counts of popular and unpopular channels.\")\n",
    "else:\n",
    "    print(\"Fail to reject the null hypothesis: There is no significant difference between the mean view counts of popular and unpopular channels.\")"
   ]
  },
  {
   "cell_type": "code",
   "execution_count": null,
   "id": "944852b5",
   "metadata": {},
   "outputs": [],
   "source": [
    "# Convert viewCount column to scientific notation (e-notation)\n",
    "sns.set_style('darkgrid')\n",
    "popular_mean_view['viewCount'] = popular_mean_view['viewCount'].apply(lambda x: format(x, '.2e'))\n",
    "\n",
    "# Create a figure and axis\n",
    "fig, ax = plt.subplots(figsize=(10, 6))\n",
    "\n",
    "# Plot the table\n",
    "table = plt.table(cellText=popular_mean_view.values,\n",
    "                  colLabels=popular_mean_view.columns,\n",
    "                  loc='center')\n",
    "\n",
    "# Style the table\n",
    "table.auto_set_font_size(False)\n",
    "table.set_fontsize(15)\n",
    "table.scale(1, 2)\n",
    "\n",
    "# Remove axis\n",
    "ax.axis('off')\n",
    "\n",
    "# Display the table\n",
    "plt.show()"
   ]
  },
  {
   "cell_type": "code",
   "execution_count": null,
   "id": "a2a43a11",
   "metadata": {},
   "outputs": [],
   "source": [
    "# Convert viewCount column to scientific notation (e-notation)\n",
    "unpopular_mean_view['viewCount'] = unpopular_mean_view['viewCount'].apply(lambda x: format(x, '.2e'))\n",
    "\n",
    "# Create a figure and axis\n",
    "fig, ax = plt.subplots(figsize=(10, 6))\n",
    "\n",
    "# Plot the table\n",
    "table = plt.table(cellText=unpopular_mean_view.values,\n",
    "                  colLabels=unpopular_mean_view.columns,\n",
    "                  loc='center')\n",
    "\n",
    "# Style the table\n",
    "table.auto_set_font_size(False)\n",
    "table.set_fontsize(15)\n",
    "table.scale(1, 2)\n",
    "\n",
    "# Remove axis\n",
    "ax.axis('off')\n",
    "\n",
    "# Display the table\n",
    "plt.show()"
   ]
  },
  {
   "cell_type": "markdown",
   "id": "7bb29f6b",
   "metadata": {},
   "source": [
    "### Text Analysis"
   ]
  },
  {
   "cell_type": "code",
   "execution_count": null,
   "id": "2faf71b5",
   "metadata": {},
   "outputs": [],
   "source": [
    "# Get the list of English stopwords\n",
    "english_stopwords = set(stopwords.words('english'))\n",
    "\n",
    "# Function to tokenize and extract bigrams from a given file\n",
    "def process_file(df, column_name):\n",
    "    # Assuming the specified column_name is present in the DataFrame\n",
    "    if column_name not in df.columns:\n",
    "        raise ValueError(f\"Column '{column_name}' not found in the DataFrame. Please specify the correct column name.\")\n",
    "\n",
    "    # Clean and tokenize titles\n",
    "    df['cleaned_titles'] = df[column_name].apply(lambda x: re.sub(r'[^a-zA-Z0-9\\s]', '', str(x)))\n",
    "\n",
    "    # Calculate character lengths of titles\n",
    "    df['title_length'] = df['cleaned_titles'].apply(lambda x: len(x))\n",
    "\n",
    "    return df\n",
    "\n",
    "col_name = 'title'\n",
    "cleaned_dataframe_t = process_file(cleaned_dataframe, col_name)"
   ]
  },
  {
   "cell_type": "markdown",
   "id": "ac59016e",
   "metadata": {},
   "source": [
    "#### QQ Plots && Distribution Plots"
   ]
  },
  {
   "cell_type": "code",
   "execution_count": null,
   "id": "e1675215",
   "metadata": {},
   "outputs": [],
   "source": [
    "df = cleaned_dataframe_t\n",
    "# recent_years = df['publishingYear'].isin([2023, 2022,2021])\n",
    "# df = df[recent_years]\n",
    "\n",
    "# Assuming your DataFrame is named 'df'\n",
    "# Separate data for popular and unpopular channels\n",
    "popular_views = df[df['pop_unpop'] == 1]['title_length']\n",
    "unpopular_views = df[df['pop_unpop'] == 0]['title_length']\n",
    "\n",
    "# Create Q-Q plots\n",
    "fig, axs = plt.subplots(1, 2, figsize=(12, 6))\n",
    "\n",
    "sm.qqplot(popular_views, line='s', color='blue', ax=axs[0])\n",
    "axs[0].set_title('Q-Q Plot - Popular Channels')\n",
    "\n",
    "sm.qqplot(unpopular_views, line='s', color='orange', ax=axs[1])\n",
    "axs[1].set_title('Q-Q Plot - Unpopular Channels')\n",
    "\n",
    "plt.tight_layout()\n",
    "plt.show()"
   ]
  },
  {
   "cell_type": "code",
   "execution_count": null,
   "id": "76fe6d3d",
   "metadata": {},
   "outputs": [],
   "source": [
    "df = cleaned_dataframe_t\n",
    "\n",
    "# Separate data for popular and unpopular channels\n",
    "popular_df = df[df['pop_unpop'] == 1]\n",
    "unpopular_df = df[df['pop_unpop'] == 0]\n",
    "\n",
    "# Plotting the distribution of viewCount for popular channels\n",
    "plt.figure(figsize=(10, 6))\n",
    "plt.hist(popular_df['title_length'], bins=50, color='blue', alpha=0.7, label='Popular Channels')\n",
    "plt.title('Distribution of title_length for Popular Channels')\n",
    "plt.xlabel('title_length')\n",
    "plt.ylabel('Frequency')\n",
    "plt.legend()\n",
    "plt.show()\n",
    "\n",
    "# Plotting the distribution of title_length for unpopular channels\n",
    "plt.figure(figsize=(10, 6))\n",
    "plt.hist(unpopular_df['title_length'], bins=50, color='red', alpha=0.7, label='Unpopular Channels')\n",
    "plt.title('Distribution of title_length for Unpopular Channels')\n",
    "plt.xlabel('title_length')\n",
    "plt.ylabel('Frequency')\n",
    "plt.legend()\n",
    "plt.show()"
   ]
  },
  {
   "cell_type": "code",
   "execution_count": null,
   "id": "4cc97622",
   "metadata": {},
   "outputs": [],
   "source": [
    "popular_df.title_length.describe(), unpopular_df.title_length.describe()\n"
   ]
  },
  {
   "cell_type": "code",
   "execution_count": null,
   "id": "f65df1db",
   "metadata": {},
   "outputs": [],
   "source": [
    "df = cleaned_dataframe_t\n",
    "\n",
    "popular_df = df[df['pop_unpop']==1]\n",
    "unpopular_df = df[df['pop_unpop']==0]\n",
    "\n",
    "# Group by channelTitle and calculate the mean view count for each channel\n",
    "popular_mean_view = popular_df.groupby('channelTitle')['title_length'].mean().reset_index()\n",
    "popular_mean_view['pop_unpop'] = 1\n",
    "unpopular_mean_view = unpopular_df.groupby('channelTitle')['title_length'].mean().reset_index()\n",
    "unpopular_mean_view['pop_unpop'] = 0\n",
    "\n",
    "# Get the view Count\n",
    "popular = popular_mean_view['title_length']\n",
    "unpopular = unpopular_mean_view['title_length']\n",
    "\n",
    "# Perform two-tailed t-test\n",
    "t_statistic, p_value = ttest_ind(popular, unpopular, equal_var=False)\n",
    "\n",
    "# Print the results\n",
    "print(\"T-statistic:\", t_statistic)\n",
    "print(\"P-value:\", p_value)\n",
    "\n",
    "# Interpret the results\n",
    "alpha = 0.01  # Set your significance level\n",
    "if p_value < alpha:\n",
    "    print(\"Reject the null hypothesis: There is a significant difference between the mean title length  of popular and unpopular channels.\")\n",
    "else:\n",
    "    print(\"Fail to reject the null hypothesis: There is no significant difference between the mean title length of popular and unpopular channels.\")"
   ]
  },
  {
   "cell_type": "markdown",
   "id": "84f860d8",
   "metadata": {},
   "source": [
    "### Mean Values of Title Length"
   ]
  },
  {
   "cell_type": "markdown",
   "id": "79dcbf49",
   "metadata": {},
   "source": [
    "|Category|Popular Mean|Unpopular Mean|\n",
    "|---|---|---|\n",
    "|Autos|46.32|54.92|\n",
    "|Shows|48.82|54.81|\n",
    "|Travel|36.98|49.39|\n",
    "|Sports|62.74|53.47|\n",
    "|Tech|48.08|50.58|"
   ]
  },
  {
   "cell_type": "markdown",
   "id": "f0b52908",
   "metadata": {},
   "source": [
    "### T-Test"
   ]
  },
  {
   "cell_type": "markdown",
   "id": "fe8a5475",
   "metadata": {},
   "source": [
    "|Category|P-value|Significant Difference|\n",
    "|---|---|---|\n",
    "|Autos|0.1790|No|\n",
    "|Shows|0.1463|No|\n",
    "|Travel|0.0064|Yes|\n",
    "|Sports|0.2616|No|\n",
    "|Tech|0.4787|No|"
   ]
  },
  {
   "cell_type": "markdown",
   "id": "59121663",
   "metadata": {},
   "source": [
    "### Man-Whitney U Test"
   ]
  },
  {
   "cell_type": "markdown",
   "id": "db3b3922",
   "metadata": {},
   "source": [
    "|Category|P-value|Significant Difference|\n",
    "|---|---|---|\n",
    "|Autos|0.2123|No|\n",
    "|Shows|0.2413|No|\n",
    "|Travel|0.017|No|\n",
    "|Sports|0.2413|No|\n",
    "|Tech|0.1859|No|"
   ]
  },
  {
   "cell_type": "code",
   "execution_count": null,
   "id": "fdc68c85",
   "metadata": {},
   "outputs": [],
   "source": [
    "# Convert viewCount column to scientific notation (e-notation)\n",
    "sns.set_style('darkgrid')\n",
    "popular_mean_view['title_length'] = popular_mean_view['title_length'].apply(lambda x: format(x, '.2e'))\n",
    "\n",
    "# Create a figure and axis\n",
    "fig, ax = plt.subplots(figsize=(10, 6))\n",
    "\n",
    "# Plot the table\n",
    "table = plt.table(cellText=popular_mean_view.values,\n",
    "                  colLabels=popular_mean_view.columns,\n",
    "                  loc='center')\n",
    "\n",
    "# Style the table\n",
    "table.auto_set_font_size(False)\n",
    "table.set_fontsize(15)\n",
    "table.scale(1, 2)\n",
    "\n",
    "# Remove axis\n",
    "ax.axis('off')\n",
    "\n",
    "# Display the table\n",
    "plt.show()"
   ]
  },
  {
   "cell_type": "code",
   "execution_count": null,
   "id": "0553255a",
   "metadata": {},
   "outputs": [],
   "source": [
    "# Convert viewCount column to scientific notation (e-notation)\n",
    "unpopular_mean_view['title_length'] = unpopular_mean_view['title_length'].apply(lambda x: format(x, '.2e'))\n",
    "\n",
    "# Create a figure and axis\n",
    "fig, ax = plt.subplots(figsize=(10, 6))\n",
    "\n",
    "# Plot the table\n",
    "table = plt.table(cellText=unpopular_mean_view.values,\n",
    "                  colLabels=unpopular_mean_view.columns,\n",
    "                  loc='center')\n",
    "\n",
    "# Style the table\n",
    "table.auto_set_font_size(False)\n",
    "table.set_fontsize(15)\n",
    "table.scale(1, 2)\n",
    "\n",
    "# Remove axis\n",
    "ax.axis('off')\n",
    "\n",
    "# Display the table\n",
    "plt.show()"
   ]
  },
  {
   "cell_type": "markdown",
   "id": "fbace104",
   "metadata": {},
   "source": [
    "### Some Plots"
   ]
  },
  {
   "cell_type": "code",
   "execution_count": null,
   "id": "618ce2bf",
   "metadata": {},
   "outputs": [],
   "source": [
    "df = cleaned_dataframe\n",
    "\n",
    "# 1) Scatterplots\n",
    "fig, axes = plt.subplots(1, 2, figsize=(14, 5))\n",
    "\n",
    "# Scatterplot: viewCount vs commentCount\n",
    "sns.scatterplot(data=df, x='viewCount', y='commentCount', hue='pop_unpop', palette={0: 'orange', 1: 'green'}, ax=axes[0])\n",
    "axes[0].set_title('Scatterplot: viewCount vs commentCount')\n",
    "\n",
    "# Scatterplot: viewCount vs likeCount\n",
    "sns.scatterplot(data=df, x='viewCount', y='likeCount', hue='pop_unpop', palette={0: 'orange', 1: 'green'}, ax=axes[1])\n",
    "axes[1].set_title('Scatterplot: viewCount vs likeCount')\n",
    "\n",
    "# 2) Weekday distribution\n",
    "fig, axes = plt.subplots(1, 2, figsize=(14, 5))\n",
    "\n",
    "# Popular Channels\n",
    "sns.countplot(data=df[df['pop_unpop'] == 1], x='publishDayName', order=['Monday', 'Tuesday', 'Wednesday', 'Thursday', 'Friday', 'Saturday', 'Sunday'], ax=axes[0], palette=['green'])\n",
    "axes[0].set_title('Weekday Distribution for Popular Channels')\n",
    "axes[0].tick_params(axis='x', rotation=45)  # Change rotation angle as needed\n",
    "\n",
    "# Unpopular Channels\n",
    "sns.countplot(data=df[df['pop_unpop'] == 0], x='publishDayName', order=['Monday', 'Tuesday', 'Wednesday', 'Thursday', 'Friday', 'Saturday', 'Sunday'], ax=axes[1], palette=['orange'])\n",
    "axes[1].set_title('Weekday Distribution for Unpopular Channels')\n",
    "axes[1].tick_params(axis='x', rotation=45)  # Change rotation angle as needed\n",
    "\n",
    "# 3) Bar plot of duration\n",
    "# Convert duration from seconds to minutes\n",
    "df['durationMins'] = df['durationSecs'] / 60\n",
    "\n",
    "# Calculate the number of bars for each 5-minute interval\n",
    "num_bars_within_range = 100 // 5\n",
    "bar_values_within_range = [i * 5 for i in range(num_bars_within_range + 1)]\n",
    "\n",
    "# Create subplots\n",
    "fig, axes = plt.subplots(1, 2, figsize=(14, 5), sharex=True, sharey=True)\n",
    "\n",
    "# Popular Channels\n",
    "sns.histplot(df[df['pop_unpop'] == 1], x='durationMins', bins=bar_values_within_range, kde=False, ax=axes[0], color='green')\n",
    "axes[0].set_title('Bar Plot of Duration for Popular Channels')\n",
    "axes[0].set_xlabel('Duration (minutes)')\n",
    "axes[0].set_ylabel('Count')\n",
    "\n",
    "# Set x-axis ticks and labels\n",
    "axes[0].set_xticks(range(0, 101, 5))\n",
    "axes[0].set_xticklabels([str(i) for i in range(0, 101, 5)], rotation =45)\n",
    "\n",
    "# Add a single bar for durations beyond 100 minutes\n",
    "axes[0].bar(105, df[(df['pop_unpop'] == 1) & (df['durationMins'] > 100)].shape[0], color='green', width=5)\n",
    "\n",
    "# Unpopular Channels\n",
    "sns.histplot(df[df['pop_unpop'] == 0], x='durationMins', bins=bar_values_within_range, kde=False, ax=axes[1], color='orange')\n",
    "axes[1].set_title('Bar Plot of Duration for Unpopular Channels')\n",
    "axes[1].set_xlabel('Duration (minutes)')\n",
    "axes[1].set_ylabel('Count')\n",
    "\n",
    "# Set x-axis ticks and labels\n",
    "axes[1].set_xticks(range(0, 101, 5))\n",
    "axes[1].set_xticklabels([str(i) for i in range(0, 101, 5)], rotation = 45)\n",
    "\n",
    "# Add a single bar for durations beyond 100 minutes\n",
    "axes[1].bar(105, df[(df['pop_unpop'] == 0) & (df['durationMins'] > 100)].shape[0], color='orange', width=5)\n",
    "\n",
    "# # 4) ViewCount vs Tags Distribution\n",
    "# fig, axes = plt.subplots(1, 2, figsize=(14, 5))\n",
    "\n",
    "# # Scatterplot: viewCount vs tagsCount\n",
    "# sns.scatterplot(data=df, x='viewCount', y='tagsCount', hue='pop_unpop', palette={0: 'orange', 1: 'green'}, ax=axes[0])\n",
    "# axes[0].set_title('Scatterplot: viewCount vs tagsCount')\n",
    "\n",
    "# # Distribution of tag count\n",
    "# sns.histplot(data=df, x='tagsCount', hue='pop_unpop', multiple='stack', bins=range(0, max(df['tagsCount']) + 1), ax=axes[1], palette={0: 'orange', 1: 'green'})\n",
    "# axes[1].set_title('Distribution of Tag Count for Channels')\n",
    "# axes[1].set_xlabel('Tags Count')\n",
    "# axes[1].set_ylabel('Count')\n",
    "# 4) Bubble plot: viewCount vs tagsCount\n",
    "fig, axes = plt.subplots(1, 2, figsize=(14, 5))\n",
    "\n",
    "# Define tag count ranges\n",
    "tag_ranges = [(0, 10), (10, 20), (20, 30)]\n",
    "\n",
    "for tag_range in tag_ranges:\n",
    "    min_tag, max_tag = tag_range\n",
    "    subset_df = df[(df['tagsCount'] >= min_tag) & (df['tagsCount'] < max_tag)]\n",
    "    size = subset_df.groupby('pop_unpop').size().reset_index(name='count')\n",
    "    color = 'green' if tag_range[0] == 0 else 'orange'  # Use green for 0-10 range and orange for others\n",
    "    sns.scatterplot(data=subset_df, x='viewCount', y='tagsCount', hue='pop_unpop', palette={0: 'orange', 1: 'green'}, size=size['count'], sizes=(20, 200), ax=axes[0], color=color)\n",
    "\n",
    "axes[0].set_title('Bubble Plot: viewCount vs tagsCount')\n",
    "axes[0].set_xlabel('viewCount')\n",
    "axes[0].set_ylabel('tagsCount')\n",
    "\n",
    "# Distribution of tag count\n",
    "sns.histplot(data=df, x='tagsCount', hue='pop_unpop', multiple='stack', bins=range(0, max(df['tagsCount']) + 1), ax=axes[1], palette={0: 'orange', 1: 'green'})\n",
    "axes[1].set_title('Distribution of Tag Count for Channels')\n",
    "axes[1].set_xlabel('Tags Count')\n",
    "axes[1].set_ylabel('Count')\n",
    "\n",
    "plt.tight_layout()\n",
    "plt.show()"
   ]
  }
 ],
 "metadata": {
  "kernelspec": {
   "display_name": "Python 3 (ipykernel)",
   "language": "python",
   "name": "python3"
  },
  "language_info": {
   "codemirror_mode": {
    "name": "ipython",
    "version": 3
   },
   "file_extension": ".py",
   "mimetype": "text/x-python",
   "name": "python",
   "nbconvert_exporter": "python",
   "pygments_lexer": "ipython3",
   "version": "3.11.3"
  }
 },
 "nbformat": 4,
 "nbformat_minor": 5
}
