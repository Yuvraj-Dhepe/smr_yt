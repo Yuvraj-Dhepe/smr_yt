{
 "cells": [
  {
   "cell_type": "markdown",
   "id": "9ade4cb7",
   "metadata": {},
   "source": [
    "### Importing Libraries"
   ]
  },
  {
   "cell_type": "code",
   "execution_count": 1,
   "id": "94faf225-2c03-498d-9b11-86ed4b820452",
   "metadata": {
    "tags": []
   },
   "outputs": [],
   "source": [
    "import pandas as pd\n",
    "import numpy as np\n",
    "import utils\n",
    "import plotly.graph_objs as go\n",
    "import dash\n",
    "from dash import dcc\n",
    "from dash import html\n",
    "import plots\n",
    "from dash.dependencies import Input, Output\n",
    "from dateutil import parser\n",
    "%load_ext autoreload\n",
    "%autoreload 2"
   ]
  },
  {
   "cell_type": "markdown",
   "id": "7f404255",
   "metadata": {},
   "source": [
    "### Parsing the Columns"
   ]
  },
  {
   "cell_type": "code",
   "execution_count": 27,
   "id": "8832d474-e3b0-4b16-9c8c-80a5b743fe7d",
   "metadata": {
    "tags": []
   },
   "outputs": [
    {
     "name": "stdout",
     "output_type": "stream",
     "text": [
      "Parser dropped 0 rows\n",
      "Parser dropped 0 rows\n"
     ]
    }
   ],
   "source": [
    "name = 'travel'\n",
    "bottom_channels = pd.read_csv(f\"./{name}/bottom_{name}_vid.csv\", index_col = 0)\n",
    "bottom_channels = utils.parse_cols(bottom_channels)\n",
    "\n",
    "\n",
    "top_channels = pd.read_csv(f\"./{name}/top_{name}_vid.csv\", index_col = 0)\n",
    "top_channels = utils.parse_cols(top_channels)\n",
    "# Autos: all 3 reject the null hypothesis\n",
    "# Shows: 1st only reject, reason being few of the channels have 0 mean.\n",
    "# Travel: 2 reject, last not rejected"
   ]
  },
  {
   "cell_type": "markdown",
   "id": "e6ffc336",
   "metadata": {},
   "source": [
    "### Describing the Data"
   ]
  },
  {
   "cell_type": "code",
   "execution_count": 28,
   "id": "73578579",
   "metadata": {
    "tags": []
   },
   "outputs": [],
   "source": [
    "# print(top_channels.describe(percentiles = [.25, .5, .75, .9, .95, .99]))\n",
    "# print(bottom_channels.describe(percentiles = [.25, .5, .75, .9, .95, .99]))"
   ]
  },
  {
   "cell_type": "markdown",
   "id": "f9620808",
   "metadata": {},
   "source": [
    "### Adding the popularity Column and combining the popular and unpopular dataframes"
   ]
  },
  {
   "cell_type": "code",
   "execution_count": 29,
   "id": "c8b03387",
   "metadata": {
    "tags": []
   },
   "outputs": [],
   "source": [
    "bottom_channels = utils.add_pop_unpop_col(bottom_channels, False)\n",
    "top_channels = utils.add_pop_unpop_col(top_channels, True)"
   ]
  },
  {
   "cell_type": "code",
   "execution_count": 30,
   "id": "c8dde32d",
   "metadata": {
    "tags": []
   },
   "outputs": [],
   "source": [
    "comb_vids = utils.combine_pop_unpop_df(top_channels, bottom_channels)"
   ]
  },
  {
   "cell_type": "code",
   "execution_count": 31,
   "id": "619bdc5d",
   "metadata": {
    "tags": []
   },
   "outputs": [],
   "source": [
    "# comb_vids"
   ]
  },
  {
   "cell_type": "markdown",
   "id": "05867cde",
   "metadata": {},
   "source": [
    "### Removing the Outliers of the Data"
   ]
  },
  {
   "cell_type": "code",
   "execution_count": 32,
   "id": "2af1fee1",
   "metadata": {
    "tags": []
   },
   "outputs": [
    {
     "name": "stdout",
     "output_type": "stream",
     "text": [
      "(10822, 21) (9892, 21)\n"
     ]
    }
   ],
   "source": [
    "# Remove outliers from the dataframe\n",
    "cleaned_dataframe = utils.remove_outliers(comb_vids)\n",
    "print(comb_vids.shape, cleaned_dataframe.shape)"
   ]
  },
  {
   "cell_type": "markdown",
   "id": "16689701",
   "metadata": {},
   "source": [
    "### Splitting the columns into 2 Chunks each having popular and unpopular channels on the base of mean of views"
   ]
  },
  {
   "cell_type": "code",
   "execution_count": 33,
   "id": "57321b47",
   "metadata": {},
   "outputs": [],
   "source": [
    "# chunklow_ch_names, chunkhigh_ch_names = utils.split_and_merge_by_views(comb_autos_info)\n",
    "# chunklow_ch_names.channelName.tolist(), chunkhigh_ch_names.channelName.tolist()"
   ]
  },
  {
   "cell_type": "code",
   "execution_count": 34,
   "id": "cc120100",
   "metadata": {
    "tags": []
   },
   "outputs": [
    {
     "name": "stdout",
     "output_type": "stream",
     "text": [
      "Mean views of popular channels:  282338441.9\n",
      "Mean views of unpopular channels:  40975686.9\n",
      "Popular channel names with views above mean: ['Kara and Nate', 'Peter Santenello', 'alanxelmundo', 'bald and bankrupt']\n",
      "Popular channel names with views below mean: ['Amazing Places on Our Planet', 'Happy Channel', 'Indian Desi Traveller', 'MoranDays', 'Mundo Sem Fim', 'Wolters World']\n",
      "UnPopular channel names with views above mean: ['Avi vlogz', 'Gaston Marotta', 'Jacek Zarzycki', 'Sin Postal', 'Theme Park Worldwide', 'WanderDa', 'wocomoTRAVEL']\n",
      "UnPopular channel names with views above mean: ['Aika Agustin', 'Google Local Guides', 'Travel with AK']\n"
     ]
    }
   ],
   "source": [
    "summed_views_df, mean_views_popular, mean_views_unpopular, popular_below_mean, popular_above_mean, unpopular_below_mean, unpopular_above_mean = utils.pop_unpop_chunks(cleaned_dataframe)\n",
    "\n",
    "above_mean_chunk = popular_above_mean + unpopular_above_mean\n",
    "below_mean_chunk = popular_below_mean + unpopular_below_mean\n",
    "\n",
    "\n",
    "print(\"Mean views of popular channels: \", mean_views_popular)\n",
    "print(\"Mean views of unpopular channels: \", mean_views_unpopular)\n",
    "\n",
    "print(f\"Popular channel names with views above mean: {(popular_above_mean)}\")\n",
    "print(f\"Popular channel names with views below mean: {(popular_below_mean)}\")\n",
    "print(f\"UnPopular channel names with views above mean: {(unpopular_above_mean)}\")\n",
    "print(f\"UnPopular channel names with views above mean: {(unpopular_below_mean)}\")"
   ]
  },
  {
   "cell_type": "code",
   "execution_count": 35,
   "id": "1b32ac74",
   "metadata": {
    "tags": []
   },
   "outputs": [],
   "source": [
    "# # Run the first App to see the growth of views over the years for above mean chunk\n",
    "# app = plots.dynamic_view_plots(cleaned_dataframe)\n",
    "# app.run_server(debug=True, use_reloader=False, mode=\"inline\", port=23000)"
   ]
  },
  {
   "cell_type": "code",
   "execution_count": 36,
   "id": "1f6dee35",
   "metadata": {
    "tags": []
   },
   "outputs": [],
   "source": [
    "# percentiles = ['.25', '.5', '.75', '.9', '.95', '.99']\n",
    "# app_2 = plots.percentiles_plot(cleaned_dataframe, percentiles=percentiles)\n",
    "# app_2.run_server(debug=True, use_reloader=False, mode=\"inline\", port=23001)"
   ]
  },
  {
   "cell_type": "code",
   "execution_count": 37,
   "id": "9d30fe0a-9ed8-4e81-8c01-964e8a919df7",
   "metadata": {
    "tags": []
   },
   "outputs": [
    {
     "name": "stderr",
     "output_type": "stream",
     "text": [
      "/home/yuvi_dh/downloads/installed/miniconda3/envs/data_analysis_env/lib/python3.11/site-packages/statsmodels/graphics/gofplots.py:1045: UserWarning: color is redundantly defined by the 'color' keyword argument and the fmt string \"b\" (-> color=(0.0, 0.0, 1.0, 1)). The keyword argument will take precedence.\n",
      "  ax.plot(x, y, fmt, **plot_style)\n"
     ]
    },
    {
     "data": {
      "image/png": "[encoded data removed]",
      "text/plain": [
       "<Figure size 1200x600 with 2 Axes>"
      ]
     },
     "metadata": {},
     "output_type": "display_data"
    }
   ],
   "source": [
    "import matplotlib.pyplot as plt\n",
    "import statsmodels.api as sm\n",
    "import seaborn as sns\n",
    "import pandas as pd\n",
    "from scipy.stats import ttest_ind\n",
    "from scipy.stats import mannwhitneyu\n",
    "\n",
    "df = cleaned_dataframe\n",
    "# recent_years = df['publishingYear'].isin([2023, 2022,2021])\n",
    "# df = df[recent_years]\n",
    "\n",
    "# Assuming your DataFrame is named 'df'\n",
    "# Separate data for popular and unpopular channels\n",
    "popular_views = df[df['pop_unpop'] == 1]['viewCount']\n",
    "unpopular_views = df[df['pop_unpop'] == 0]['viewCount']\n",
    "\n",
    "# Create Q-Q plots\n",
    "fig, axs = plt.subplots(1, 2, figsize=(12, 6))\n",
    "\n",
    "sm.qqplot(popular_views, line='s', color='blue', ax=axs[0])\n",
    "axs[0].set_title('Q-Q Plot - Popular Channels')\n",
    "\n",
    "sm.qqplot(unpopular_views, line='s', color='orange', ax=axs[1])\n",
    "axs[1].set_title('Q-Q Plot - Unpopular Channels')\n",
    "\n",
    "plt.tight_layout()\n",
    "plt.show()"
   ]
  },
  {
   "cell_type": "code",
   "execution_count": 38,
   "id": "83aebe4c-ef45-4254-add0-e2707858d0a6",
   "metadata": {
    "tags": []
   },
   "outputs": [
    {
     "name": "stdout",
     "output_type": "stream",
     "text": [
      "T-statistic: 4142144.5\n",
      "P-value: 3.770435806578467e-103\n",
      "Reject the null hypothesis: There is a significant difference between the view counts of popular and unpopular channels in the recent three years.\n"
     ]
    }
   ],
   "source": [
    "# Assuming your DataFrame is named 'df'\n",
    "# Filter data for the most recent three years\n",
    "df = cleaned_dataframe\n",
    "recent_years = df['publishingYear'].isin([2023, 2022,2021])  # Replace 'year1', 'year2', 'year3' with actual years\n",
    "filtered_df = df[recent_years]\n",
    "\n",
    "# Separate data for popular and unpopular channels in the recent years\n",
    "popular = filtered_df[filtered_df['pop_unpop'] == 1]['viewCount']\n",
    "unpopular = filtered_df[filtered_df['pop_unpop'] == 0]['viewCount']\n",
    "\n",
    "# Perform two-tailed t-test\n",
    "t_statistic, p_value = mannwhitneyu(popular, unpopular)\n",
    "\n",
    "# Print the results\n",
    "print(\"T-statistic:\", t_statistic)\n",
    "print(\"P-value:\", p_value)\n",
    "\n",
    "# Interpret the results\n",
    "alpha = 0.05  # Set your significance level\n",
    "if p_value < alpha:\n",
    "    print(\"Reject the null hypothesis: There is a significant difference between the view counts of popular and unpopular channels in the recent three years.\")\n",
    "else:\n",
    "    print(\"Fail to reject the null hypothesis: There is no significant difference between the view counts of popular and unpopular channels in the recent three years.\")\n"
   ]
  },
  {
   "cell_type": "code",
   "execution_count": 41,
   "id": "0846f568-9b4a-43d7-a34e-a08458c2760c",
   "metadata": {
    "tags": []
   },
   "outputs": [
    {
     "name": "stdout",
     "output_type": "stream",
     "text": [
      "T-statistic: 86.0\n",
      "P-value: 0.00728455700947966\n",
      "Reject the null hypothesis: There is a significant difference between the mean view counts of popular and unpopular channels.\n"
     ]
    }
   ],
   "source": [
    "# Assuming your DataFrame is named 'cleaned_dataframe'\n",
    "# Filter data for the most recent three years\n",
    "df = cleaned_dataframe\n",
    "# recent_years = df['publishingYear']\n",
    "# df = df[recent_years]\n",
    "\n",
    "popular_df = df[df['pop_unpop']==1]\n",
    "unpopular_df = df[df['pop_unpop']==0]\n",
    "\n",
    "# Group by channelTitle and calculate the mean view count for each channel\n",
    "popular_mean_view = popular_df.groupby('channelTitle')['viewCount'].mean().reset_index()\n",
    "popular_mean_view['pop_unpop'] = 1\n",
    "unpopular_mean_view = unpopular_df.groupby('channelTitle')['viewCount'].mean().reset_index()\n",
    "unpopular_mean_view['pop_unpop'] = 0\n",
    "\n",
    "# Get the view Count\n",
    "popular = popular_mean_view['viewCount']\n",
    "unpopular = unpopular_mean_view['viewCount']\n",
    "\n",
    "# Perform two-tailed t-test\n",
    "t_statistic, p_value = mannwhitneyu(popular, unpopular)\n",
    "\n",
    "# Print the results\n",
    "print(\"T-statistic:\", t_statistic)\n",
    "print(\"P-value:\", p_value)\n",
    "\n",
    "# Interpret the results\n",
    "alpha = 0.01  # Set your significance level\n",
    "if p_value < alpha:\n",
    "    print(\"Reject the null hypothesis: There is a significant difference between the mean view counts of popular and unpopular channels.\")\n",
    "else:\n",
    "    print(\"Fail to reject the null hypothesis: There is no significant difference between the mean view counts of popular and unpopular channels.\")"
   ]
  },
  {
   "cell_type": "code",
   "execution_count": 10,
   "id": "abb5e284",
   "metadata": {
    "tags": []
   },
   "outputs": [],
   "source": [
    "means = utils.return_means_from_percentiles_for_given_years(cleaned_dataframe, percentiles=['0.95'], years = [2023, 2022, 2021], column = 'viewCount', year_column='publishingYear')"
   ]
  },
  {
   "cell_type": "code",
   "execution_count": 18,
   "id": "2c9f28aa-f859-4ca6-841b-db42bfe70d0e",
   "metadata": {
    "tags": []
   },
   "outputs": [
    {
     "name": "stdout",
     "output_type": "stream",
     "text": [
      "T-statistic: 44.0\n",
      "P-value: 0.7906590233530115\n",
      "Fail to reject the null hypothesis: There is no significant difference between the mean views of popular and unpopular channels.\n"
     ]
    }
   ],
   "source": [
    "df = means\n",
    "# Assuming your DataFrame is named 'df'\n",
    "# Separate data for popular and unpopular channels\n",
    "popular = df[df['pop_unpop'] == 1]['ViewMean'].iloc[:9]\n",
    "unpopular = df[df['pop_unpop'] == 0]['ViewMean'].iloc[:9]\n",
    "\n",
    "# Perform two-tailed t-test\n",
    "t_statistic, p_value = mannwhitneyu(popular, unpopular)\n",
    "\n",
    "# Print the results\n",
    "print(\"T-statistic:\", t_statistic)\n",
    "print(\"P-value:\", p_value)\n",
    "\n",
    "# Interpret the results\n",
    "alpha = 0.05  # Set your significance level\n",
    "if p_value < alpha:\n",
    "    print(\"Reject the null hypothesis: There is a significant difference between the mean views of popular and unpopular channels.\")\n",
    "else:\n",
    "    print(\"Fail to reject the null hypothesis: There is no significant difference between the mean views of popular and unpopular channels.\")\n"
   ]
  }
 ],
 "metadata": {
  "kernelspec": {
   "display_name": "Python 3 (ipykernel)",
   "language": "python",
   "name": "python3"
  },
  "language_info": {
   "codemirror_mode": {
    "name": "ipython",
    "version": 3
   },
   "file_extension": ".py",
   "mimetype": "text/x-python",
   "name": "python",
   "nbconvert_exporter": "python",
   "pygments_lexer": "ipython3",
   "version": "3.11.3"
  }
 },
 "nbformat": 4,
 "nbformat_minor": 5
}
