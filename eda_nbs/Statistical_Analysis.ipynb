{
 "cells": [
  {
   "cell_type": "code",
   "execution_count": 56,
   "id": "94faf225-2c03-498d-9b11-86ed4b820452",
   "metadata": {
    "tags": []
   },
   "outputs": [
    {
     "name": "stdout",
     "output_type": "stream",
     "text": [
      "The autoreload extension is already loaded. To reload it, use:\n",
      "  %reload_ext autoreload\n"
     ]
    }
   ],
   "source": [
    "import pandas as pd\n",
    "import numpy as np\n",
    "import utils\n",
    "import plotly.graph_objs as go\n",
    "import dash\n",
    "from dash import dcc\n",
    "from dash import html\n",
    "import plots\n",
    "from dash.dependencies import Input, Output\n",
    "from dateutil import parser \n",
    "%load_ext autoreload\n",
    "%autoreload 2"
   ]
  },
  {
   "cell_type": "code",
   "execution_count": null,
   "id": "921863f6",
   "metadata": {},
   "outputs": [],
   "source": [
    "bottom_autos_info = pd.read_csv(\"./autos/bottom_autos_info.csv\", index_col = 0)\n",
    "bottom_autos_comments = pd.read_csv(\"./autos/bottom_autos_comments.csv\", index_col = 0)\n",
    "bottom_autos_vids = pd.read_csv(\"./autos/bottom_autos_vid.csv\", index_col = 0)\n",
    "bottom_autos_vids = utils.parse_cols(bottom_autos_vids)\n",
    "\n",
    "\n",
    "top_autos_info = pd.read_csv(\"./autos/top_autos_info.csv\", index_col = 0)\n",
    "top_autos_comments = pd.read_csv(\"./autos/top_autos_comments.csv\", index_col = 0)\n",
    "top_autos_vids = pd.read_csv(\"./autos/top_autos_vid.csv\", index_col = 0)\n",
    "top_autos_vids = utils.parse_cols(top_autos_vids)"
   ]
  },
  {
   "cell_type": "code",
   "execution_count": null,
   "id": "c8b03387",
   "metadata": {},
   "outputs": [],
   "source": [
    "bottom_autos_info = utils.add_pop_unpop_col(bottom_autos_info, False)\n",
    "bottom_autos_comments = utils.add_pop_unpop_col(bottom_autos_comments, False)\n",
    "bottom_autos_vids = utils.add_pop_unpop_col(bottom_autos_vids, False)\n",
    "\n",
    "\n",
    "top_autos_info = utils.add_pop_unpop_col(top_autos_info, True)\n",
    "top_autos_comments = utils.add_pop_unpop_col(top_autos_comments, True)\n",
    "top_autos_vids = utils.add_pop_unpop_col(top_autos_vids, True)"
   ]
  },
  {
   "cell_type": "code",
   "execution_count": null,
   "id": "c8dde32d",
   "metadata": {},
   "outputs": [],
   "source": [
    "comb_autos_info = utils.combine_pop_unpop_df(top_autos_info, bottom_autos_info)\n",
    "comb_autos_comments = utils.combine_pop_unpop_df(top_autos_comments, bottom_autos_comments)\n",
    "comb_autos_vids = utils.combine_pop_unpop_df(top_autos_vids, bottom_autos_vids)"
   ]
  },
  {
   "cell_type": "code",
   "execution_count": null,
   "id": "619bdc5d",
   "metadata": {},
   "outputs": [],
   "source": [
    "comb_autos_info"
   ]
  },
  {
   "cell_type": "code",
   "execution_count": 50,
   "id": "cc120100",
   "metadata": {},
   "outputs": [],
   "source": [
    "chunk1, chunk2 = utils.split_and_merge_by_views(comb_autos_info)\n",
    "chunk1_ch_names = chunk1.channelName.to_list()\n",
    "chunk2_ch_names = chunk2.channelName.to_list()"
   ]
  },
  {
   "cell_type": "code",
   "execution_count": 51,
   "id": "0c8afc39",
   "metadata": {},
   "outputs": [
    {
     "data": {
      "text/plain": [
       "(['Doctor D.S.',\n",
       "  'STAR GAMERS',\n",
       "  'MEDCARS',\n",
       "  'Need for Speed',\n",
       "  'DIY Garage',\n",
       "  'Ford Argentina',\n",
       "  'Sonic Electronix',\n",
       "  'AirshowStuffVideos',\n",
       "  'Auto Plus',\n",
       "  'Sergio Hernandez',\n",
       "  'DREAM MACHINES',\n",
       "  'NoNonsenseKnowHow'],\n",
       " ['DailyDrivenExotics',\n",
       "  'Scotty Kilmer',\n",
       "  'Hot Wheels',\n",
       "  'ChrisFix',\n",
       "  'Donut',\n",
       "  'DutchMotorsport',\n",
       "  'DPCcars',\n",
       "  'Mazda USA'])"
      ]
     },
     "execution_count": 51,
     "metadata": {},
     "output_type": "execute_result"
    }
   ],
   "source": [
    "chunk1_ch_names, chunk2_ch_names"
   ]
  },
  {
   "cell_type": "code",
   "execution_count": 78,
   "id": "4f3e36f5",
   "metadata": {},
   "outputs": [],
   "source": [
    "# Remove outliers from the dataframe\n",
    "cleaned_dataframe = utils.remove_outliers(comb_autos_vids)"
   ]
  },
  {
   "cell_type": "code",
   "execution_count": 79,
   "id": "573be64a",
   "metadata": {},
   "outputs": [
    {
     "data": {
      "text/plain": [
       "((15227, 21), (13781, 21))"
      ]
     },
     "execution_count": 79,
     "metadata": {},
     "output_type": "execute_result"
    }
   ],
   "source": [
    "comb_autos_vids.shape, cleaned_dataframe.shape"
   ]
  },
  {
   "cell_type": "code",
   "execution_count": 84,
   "id": "c66eff7c",
   "metadata": {},
   "outputs": [
    {
     "data": {
      "text/html": [
       "\n",
       "        <iframe\n",
       "            width=\"100%\"\n",
       "            height=\"650\"\n",
       "            src=\"http://127.0.0.1:8050/\"\n",
       "            frameborder=\"0\"\n",
       "            allowfullscreen\n",
       "            \n",
       "        ></iframe>\n",
       "        "
      ],
      "text/plain": [
       "<IPython.lib.display.IFrame at 0x7f06283917d0>"
      ]
     },
     "metadata": {},
     "output_type": "display_data"
    }
   ],
   "source": [
    "# Run the first app\n",
    "app_1 = plots.multi_plots(cleaned_dataframe,chunk1_ch_names)\n",
    "app_1.run_server(debug=True, use_reloader=False, mode=\"inline\", port=8050)"
   ]
  }
 ],
 "metadata": {
  "kernelspec": {
   "display_name": "Python 3 (ipykernel)",
   "language": "python",
   "name": "python3"
  },
  "language_info": {
   "codemirror_mode": {
    "name": "ipython",
    "version": 3
   },
   "file_extension": ".py",
   "mimetype": "text/x-python",
   "name": "python",
   "nbconvert_exporter": "python",
   "pygments_lexer": "ipython3",
   "version": "3.11.3"
  }
 },
 "nbformat": 4,
 "nbformat_minor": 5
}
