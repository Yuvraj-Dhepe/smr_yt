{
 "cells": [
  {
   "cell_type": "markdown",
   "id": "9ade4cb7",
   "metadata": {},
   "source": [
    "### Importing Libraries"
   ]
  },
  {
   "cell_type": "code",
   "execution_count": 1,
   "id": "94faf225-2c03-498d-9b11-86ed4b820452",
   "metadata": {
    "tags": []
   },
   "outputs": [],
   "source": [
    "import pandas as pd\n",
    "import numpy as np\n",
    "import utils\n",
    "import plotly.graph_objs as go\n",
    "import dash\n",
    "from dash import dcc\n",
    "from dash import html\n",
    "import plots\n",
    "from dash.dependencies import Input, Output\n",
    "from dateutil import parser\n",
    "%load_ext autoreload\n",
    "%autoreload 2"
   ]
  },
  {
   "cell_type": "markdown",
   "id": "7f404255",
   "metadata": {},
   "source": [
    "### Parsing the Columns"
   ]
  },
  {
   "cell_type": "code",
   "execution_count": 2,
   "id": "8832d474-e3b0-4b16-9c8c-80a5b743fe7d",
   "metadata": {
    "tags": []
   },
   "outputs": [
    {
     "name": "stdout",
     "output_type": "stream",
     "text": [
      "Parser dropped 0 rows\n",
      "Parser dropped 0 rows\n"
     ]
    }
   ],
   "source": [
    "name = 'shows'\n",
    "bottom_channels = pd.read_csv(f\"./{name}/bottom_{name}_vid.csv\", index_col = 0)\n",
    "bottom_channels = utils.parse_cols(bottom_channels)\n",
    "\n",
    "\n",
    "top_channels = pd.read_csv(f\"./{name}/top_{name}_vid.csv\", index_col = 0)\n",
    "top_channels = utils.parse_cols(top_channels)"
   ]
  },
  {
   "cell_type": "markdown",
   "id": "e6ffc336",
   "metadata": {},
   "source": [
    "### Describing the Data"
   ]
  },
  {
   "cell_type": "code",
   "execution_count": null,
   "id": "73578579",
   "metadata": {
    "tags": []
   },
   "outputs": [],
   "source": [
    "# print(top_channels.describe(percentiles = [.25, .5, .75, .9, .95, .99]))\n",
    "# print(bottom_channels.describe(percentiles = [.25, .5, .75, .9, .95, .99]))"
   ]
  },
  {
   "cell_type": "markdown",
   "id": "f9620808",
   "metadata": {},
   "source": [
    "### Adding the popularity Column and combining the popular and unpopular dataframes"
   ]
  },
  {
   "cell_type": "code",
   "execution_count": 3,
   "id": "c8b03387",
   "metadata": {
    "tags": []
   },
   "outputs": [],
   "source": [
    "bottom_channels = utils.add_pop_unpop_col(bottom_channels, False)\n",
    "top_channels = utils.add_pop_unpop_col(top_channels, True)"
   ]
  },
  {
   "cell_type": "code",
   "execution_count": 4,
   "id": "c8dde32d",
   "metadata": {
    "tags": []
   },
   "outputs": [],
   "source": [
    "comb_vids = utils.combine_pop_unpop_df(top_channels, bottom_channels)"
   ]
  },
  {
   "cell_type": "code",
   "execution_count": 5,
   "id": "619bdc5d",
   "metadata": {
    "tags": []
   },
   "outputs": [],
   "source": [
    "# comb_vids"
   ]
  },
  {
   "cell_type": "markdown",
   "id": "05867cde",
   "metadata": {},
   "source": [
    "### Removing the Outliers of the Data"
   ]
  },
  {
   "cell_type": "code",
   "execution_count": 6,
   "id": "2af1fee1",
   "metadata": {
    "tags": []
   },
   "outputs": [
    {
     "name": "stdout",
     "output_type": "stream",
     "text": [
      "(15154, 21) (13539, 21)\n"
     ]
    }
   ],
   "source": [
    "# Remove outliers from the dataframe\n",
    "cleaned_dataframe = utils.remove_outliers(comb_vids)\n",
    "print(comb_vids.shape, cleaned_dataframe.shape)"
   ]
  },
  {
   "cell_type": "markdown",
   "id": "16689701",
   "metadata": {},
   "source": [
    "### Splitting the columns into 2 Chunks each having popular and unpopular channels on the base of mean of views"
   ]
  },
  {
   "cell_type": "code",
   "execution_count": 7,
   "id": "57321b47",
   "metadata": {},
   "outputs": [],
   "source": [
    "# chunklow_ch_names, chunkhigh_ch_names = utils.split_and_merge_by_views(comb_autos_info)\n",
    "# chunklow_ch_names.channelName.tolist(), chunkhigh_ch_names.channelName.tolist()"
   ]
  },
  {
   "cell_type": "code",
   "execution_count": 8,
   "id": "cc120100",
   "metadata": {
    "tags": []
   },
   "outputs": [
    {
     "name": "stdout",
     "output_type": "stream",
     "text": [
      "Mean views of popular channels:  226271825.9\n",
      "Mean views of unpopular channels:  45337442.0\n",
      "Popular channel names with views above mean: ['ScarySnowmanTV', 'The Key of Awesome', 'kipkay']\n",
      "Popular channel names with views below mean: ['A&E', 'DanceOn', 'Doctissimo', 'KBS Drama', 'MoosePlays', 'MrCreepyPasta', 'Reckless Comedy']\n",
      "UnPopular channel names with views above mean: ['AnimationEpic', 'Zebra Nursery Rhymes - Kids Song and Cartoons']\n",
      "UnPopular channel names with views above mean: ['Earth Touch', 'FUTURE INC.', 'My Damn Channel', 'Nine-Tales Recaps ', 'Peppers TV', 'RealityGamingTV', 'Sunrise', 'Televisa Puebla']\n"
     ]
    }
   ],
   "source": [
    "summed_views_df, mean_views_popular, mean_views_unpopular, popular_below_mean, popular_above_mean, unpopular_below_mean, unpopular_above_mean = utils.pop_unpop_chunks(cleaned_dataframe)\n",
    "\n",
    "above_mean_chunk = popular_above_mean + unpopular_above_mean\n",
    "below_mean_chunk = popular_below_mean + unpopular_below_mean\n",
    "\n",
    "\n",
    "print(\"Mean views of popular channels: \", mean_views_popular)\n",
    "print(\"Mean views of unpopular channels: \", mean_views_unpopular)\n",
    "\n",
    "print(f\"Popular channel names with views above mean: {(popular_above_mean)}\")\n",
    "print(f\"Popular channel names with views below mean: {(popular_below_mean)}\")\n",
    "print(f\"UnPopular channel names with views above mean: {(unpopular_above_mean)}\")\n",
    "print(f\"UnPopular channel names with views above mean: {(unpopular_below_mean)}\")"
   ]
  },
  {
   "cell_type": "code",
   "execution_count": null,
   "id": "d0f4d225-6bfa-4b2e-b82d-ec6de83fce94",
   "metadata": {},
   "outputs": [],
   "source": []
  },
  {
   "cell_type": "code",
   "execution_count": 9,
   "id": "1b32ac74",
   "metadata": {
    "tags": []
   },
   "outputs": [],
   "source": [
    "# # Run the first App to see the growth of views over the years for above mean chunk\n",
    "# app = plots.dynamic_view_plots(cleaned_dataframe)\n",
    "# app.run_server(debug=True, use_reloader=False, mode=\"inline\", port=23000)"
   ]
  },
  {
   "cell_type": "code",
   "execution_count": 12,
   "id": "1f6dee35",
   "metadata": {
    "tags": []
   },
   "outputs": [],
   "source": [
    "# percentiles = ['.25', '.5', '.75', '.9', '.95', '.99']\n",
    "# app = plots.percentiles_plot(cleaned_dataframe, percentiles=percentiles)\n",
    "# app.run_server(debug=True, use_reloader=False, mode=\"inline\", port=23001)"
   ]
  },
  {
   "cell_type": "code",
   "execution_count": 10,
   "id": "abb5e284",
   "metadata": {
    "tags": []
   },
   "outputs": [],
   "source": [
    "means = utils.return_means_from_percentiles_for_given_years(cleaned_dataframe, percentiles=['0.95'], years = [2021, 2022, 2023], column = 'viewCount', year_column='publishingYear')"
   ]
  },
  {
   "cell_type": "code",
   "execution_count": 11,
   "id": "2c9f28aa-f859-4ca6-841b-db42bfe70d0e",
   "metadata": {
    "tags": []
   },
   "outputs": [],
   "source": [
    "means.to_csv(f\"{name}.csv\")"
   ]
  }
 ],
 "metadata": {
  "kernelspec": {
   "display_name": "Python 3 (ipykernel)",
   "language": "python",
   "name": "python3"
  },
  "language_info": {
   "codemirror_mode": {
    "name": "ipython",
    "version": 3
   },
   "file_extension": ".py",
   "mimetype": "text/x-python",
   "name": "python",
   "nbconvert_exporter": "python",
   "pygments_lexer": "ipython3",
   "version": "3.11.3"
  }
 },
 "nbformat": 4,
 "nbformat_minor": 5
}
