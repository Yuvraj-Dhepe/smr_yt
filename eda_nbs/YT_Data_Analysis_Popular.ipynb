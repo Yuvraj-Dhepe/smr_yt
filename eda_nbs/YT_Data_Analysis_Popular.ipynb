{
 "cells": [
  {
   "cell_type": "markdown",
   "id": "ebfc8c74-defe-472e-bb4b-b7f4d529024b",
   "metadata": {},
   "source": [
    "## Basic Channel Info EDA"
   ]
  },
  {
   "cell_type": "code",
   "execution_count": null,
   "id": "b017958e-35f4-4c1e-93a1-0b2d535f088e",
   "metadata": {
    "tags": []
   },
   "outputs": [],
   "source": [
    "import pandas as pd\n",
    "channel_data = pd.read_csv('../top_channel_data/top_1_25_Channel_info.csv', index_col = 0)"
   ]
  },
  {
   "cell_type": "code",
   "execution_count": null,
   "id": "e84f28f5-ce23-49bb-9cb8-e1a2c54ffb30",
   "metadata": {
    "tags": []
   },
   "outputs": [],
   "source": [
    "channel_data.head()"
   ]
  },
  {
   "cell_type": "code",
   "execution_count": null,
   "id": "2ebcdc27-8794-4b1e-83a5-47033a066dfc",
   "metadata": {
    "tags": []
   },
   "outputs": [],
   "source": [
    "channel_data.dropna(inplace = True, subset = ['totalVideos'])"
   ]
  },
  {
   "cell_type": "code",
   "execution_count": null,
   "id": "bf1c96e8-8e7b-457a-8a9f-7ffa16e6a4a3",
   "metadata": {
    "tags": []
   },
   "outputs": [],
   "source": [
    "channel_data.to_csv('../top_channel_data/top_1_25_Channel_info.csv')"
   ]
  },
  {
   "cell_type": "code",
   "execution_count": null,
   "id": "79e0a035-19d6-45c7-b9f2-f740ed85ef54",
   "metadata": {
    "tags": []
   },
   "outputs": [],
   "source": [
    "import sweetviz as sv\n",
    "feature_config = sv.FeatureConfig(force_text=['playlistId','channelName'])\n",
    "channel_info_report = sv.analyze(channel_data, target_feat='views',pairwise_analysis = 'on', feat_cfg=feature_config)\n",
    "channel_info_report.show_notebook()"
   ]
  },
  {
   "cell_type": "markdown",
   "id": "f28ab6d1-f93b-4102-8628-f0ef2e0fa895",
   "metadata": {
    "tags": []
   },
   "source": [
    "### Video Data EDA"
   ]
  },
  {
   "cell_type": "code",
   "execution_count": null,
   "id": "3989ac25-4603-44e5-9f4c-1f908a0f0d9c",
   "metadata": {
    "tags": []
   },
   "outputs": [],
   "source": [
    "import pandas as pd\n",
    "from dateutil import parser\n",
    "import seaborn as sns\n",
    "import matplotlib.pyplot as plt\n",
    "import isodate\n",
    "import datetime\n"
   ]
  },
  {
   "cell_type": "code",
   "execution_count": null,
   "id": "9457405d-47d0-4382-a1f5-3eca07fa35ba",
   "metadata": {
    "tags": []
   },
   "outputs": [],
   "source": [
    "vid_data = pd.read_csv('../top_channel_data/top_1_25_vid_details.csv', index_col = 0)\n",
    "viddf = vid_data.copy()"
   ]
  },
  {
   "cell_type": "code",
   "execution_count": null,
   "id": "0772b463-54de-4135-9e5e-86f78d60a66d",
   "metadata": {
    "tags": []
   },
   "outputs": [],
   "source": [
    "viddf.head()"
   ]
  },
  {
   "cell_type": "code",
   "execution_count": null,
   "id": "f8b18a8d-3e98-45cb-9187-a4f6a9f4505b",
   "metadata": {
    "tags": []
   },
   "outputs": [],
   "source": [
    "sns.heatmap(viddf.isnull(),yticklabels = False, cbar = False, cmap = 'viridis')\n",
    "plt.show()"
   ]
  },
  {
   "cell_type": "code",
   "execution_count": null,
   "id": "5d37eb28-4d7e-4f95-9e19-1716f7b77a18",
   "metadata": {
    "tags": []
   },
   "outputs": [],
   "source": [
    "# Drop Dislike count since it has many missing values\n",
    "viddf.drop(['dislikeCount'],axis = 1, inplace=True)"
   ]
  },
  {
   "cell_type": "code",
   "execution_count": null,
   "id": "b37a41a5-197b-40a6-8f12-746119a84bdc",
   "metadata": {
    "tags": []
   },
   "outputs": [],
   "source": [
    "# Create publish day (in the week) column\n",
    "viddf['publishedAt'] =  viddf['publishedAt'].apply(lambda x: parser.parse(x))\n",
    "viddf['publishDayName'] = viddf['publishedAt'].apply(lambda x: x.strftime(\"%A\"))\n",
    "\n",
    "# Convert publishedAt column to datetime\n",
    "viddf['publishedAt'] =(pd.to_datetime(viddf['publishedAt']))\n",
    "\n",
    "\n",
    "# Extract year, month, and time into separate columns\n",
    "viddf['publishingYear'] = viddf['publishedAt'].dt.year\n",
    "viddf['publishingMonth'] = viddf['publishedAt'].dt.month\n",
    "viddf['publishingTime'] = viddf['publishedAt'].dt.time\n",
    "\n",
    "# Get month name\n",
    "viddf['publishingMonthName'] = viddf['publishedAt'].dt.strftime(\"%B\")\n",
    "\n",
    "# Dropping the published At column\n",
    "viddf.drop(['publishedAt'],axis = 1, inplace = True)"
   ]
  },
  {
   "cell_type": "code",
   "execution_count": null,
   "id": "0f922999-6463-44c5-b9a3-097a36083bed",
   "metadata": {
    "tags": []
   },
   "outputs": [],
   "source": [
    "# Doing some necessary data manipulations\n",
    "cols = ['viewCount', 'likeCount', 'commentCount']\n",
    "viddf[cols] = viddf[cols].apply(pd.to_numeric, errors='coerce', axis=1)"
   ]
  },
  {
   "cell_type": "code",
   "execution_count": null,
   "id": "72a3030e-cf6a-4c8e-ac96-f787cbee8cf4",
   "metadata": {
    "tags": []
   },
   "outputs": [],
   "source": [
    "import numpy as np"
   ]
  },
  {
   "cell_type": "code",
   "execution_count": null,
   "id": "47b7776f-9180-47b0-b705-d5fbf7f8c044",
   "metadata": {
    "tags": []
   },
   "outputs": [],
   "source": [
    "#viewCount is basically a target feature and shouldn't have nan values to sucsessfully generate a report\n",
    "viddf.dropna(axis = 0, subset = ['viewCount'], inplace = True) \n",
    "viddf.dropna(axis = 0, subset = ['likeCount'], inplace = True)"
   ]
  },
  {
   "cell_type": "markdown",
   "id": "0a8ca48e-843c-422e-a141-208992ab1c45",
   "metadata": {
    "id": "6ed1769b-7df5-42ef-8e9c-89b9014a309c",
    "tags": []
   },
   "source": [
    "#### Enriching data"
   ]
  },
  {
   "cell_type": "markdown",
   "id": "e71336ad-eb0a-420b-aa95-bc27d3e0a023",
   "metadata": {
    "id": "a4d90678-9924-4fa8-806b-67f1235ad5cd",
    "tags": []
   },
   "source": [
    "I want to enrich the data for further analyses, for example:\n",
    "- convert video duration to seconds instead of the current default string format\n",
    "- calculate number of tags for each video\n",
    "- calculate comments and likes per 1000 view ratio\n",
    "- calculate title character length"
   ]
  },
  {
   "cell_type": "code",
   "execution_count": null,
   "id": "05dc48a9-40c5-4c2a-ae9b-5e2e9b084a4d",
   "metadata": {
    "id": "0ea75f4a-3618-4ce6-ad49-9da1658c7c43",
    "tags": []
   },
   "outputs": [],
   "source": [
    "# convert duration to seconds\n",
    "viddf['durationSecs'] = viddf['duration'].apply(lambda x: isodate.parse_duration(x))\n",
    "viddf['durationSecs'] = viddf['durationSecs'].astype('timedelta64[s]')\n",
    "viddf.drop(['duration'],axis = 1, inplace=True) # Remove duration since we got it in secs now"
   ]
  },
  {
   "cell_type": "code",
   "execution_count": null,
   "id": "2c2cf302-e868-4076-a050-0fa125763369",
   "metadata": {
    "id": "ee9b22d9-ffe5-446e-94a4-4e6ee7c383de",
    "tags": []
   },
   "outputs": [],
   "source": [
    "# Add number of tags\n",
    "viddf['tagsstr'] = viddf.tags.apply(lambda x: 0 if x is None else str((x))) #tags were not in proper format so converting them to str\n",
    "viddf['tagsCount'] = viddf.tagsstr.apply(lambda x: 0 if (x == 0 or x =='nan') else len(eval(x)))\n",
    "viddf.drop(['tags'],axis = 1, inplace=True) # Remove tags since we got tagstr now"
   ]
  },
  {
   "cell_type": "code",
   "execution_count": null,
   "id": "f5490c45-ffdc-4e05-8892-4cf0964171f3",
   "metadata": {
    "id": "68cd72ea-2ee6-415b-973d-458c39de8469",
    "tags": []
   },
   "outputs": [],
   "source": [
    "# Comments and likes per 1000 view ratio\n",
    "viddf['likeRatio'] = viddf['likeCount']/ viddf['viewCount'] * 1000\n",
    "viddf['commentRatio'] = viddf['commentCount']/ viddf['viewCount'] * 1000"
   ]
  },
  {
   "cell_type": "code",
   "execution_count": null,
   "id": "dbcbfd76-eaa8-4893-b15f-9a4920e6f4d0",
   "metadata": {
    "id": "094ecd04-bced-42cf-ad66-ab0d2af19924",
    "tags": []
   },
   "outputs": [],
   "source": [
    "# Title character length\n",
    "viddf['titleLength'] = viddf['title'].apply(lambda x: len(x))"
   ]
  },
  {
   "cell_type": "code",
   "execution_count": null,
   "id": "ed561422-611d-447f-99ad-d77768dcbe04",
   "metadata": {
    "tags": []
   },
   "outputs": [],
   "source": [
    "viddf.columns"
   ]
  },
  {
   "cell_type": "code",
   "execution_count": null,
   "id": "c6f0dcb1-75a4-4b44-8a02-02d368773ef2",
   "metadata": {
    "tags": []
   },
   "outputs": [],
   "source": [
    "viddf.describe()"
   ]
  },
  {
   "cell_type": "code",
   "execution_count": null,
   "id": "fd3cc682-336a-42eb-a0ef-520fed4a043c",
   "metadata": {
    "tags": []
   },
   "outputs": [],
   "source": [
    "import sweetviz as sv\n",
    "feature_config = sv.FeatureConfig(skip ='likeRatio',force_text=['video_id','channelTitle','title','description', 'definition','publishDayName','publishingMonthName','tagsstr'])\n",
    "channel_info_report = sv.analyze(viddf,target_feat='viewCount',feat_cfg=feature_config)\n",
    "channel_info_report.show_notebook()"
   ]
  },
  {
   "cell_type": "markdown",
   "id": "25860dec-4e3b-4985-8ba2-cfb8ad5decc1",
   "metadata": {},
   "source": [
    "### Comment Data EDA"
   ]
  }
 ],
 "metadata": {
  "kernelspec": {
   "display_name": "Python 3 (ipykernel)",
   "language": "python",
   "name": "python3"
  },
  "language_info": {
   "codemirror_mode": {
    "name": "ipython",
    "version": 3
   },
   "file_extension": ".py",
   "mimetype": "text/x-python",
   "name": "python",
   "nbconvert_exporter": "python",
   "pygments_lexer": "ipython3",
   "version": "3.11.3"
  }
 },
 "nbformat": 4,
 "nbformat_minor": 5
}
